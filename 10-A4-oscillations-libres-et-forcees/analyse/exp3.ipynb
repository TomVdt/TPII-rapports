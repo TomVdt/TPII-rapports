{
 "cells": [
  {
   "cell_type": "markdown",
   "metadata": {},
   "source": [
    "# Forcées résonance\n"
   ]
  },
  {
   "cell_type": "code",
   "execution_count": 1,
   "metadata": {},
   "outputs": [],
   "source": [
    "import numpy as np\n",
    "import pandas as pd\n",
    "import scipy as sc\n",
    "import matplotlib as mpl\n",
    "import matplotlib.pyplot as plt\n",
    "from uncertainties import unumpy as unp\n",
    "from uncertainties import ufloat, umath\n",
    "from options import *\n",
    "from constants import *\n",
    "\n",
    "nom_vals = unp.nominal_values\n",
    "std_devs = unp.std_devs\n",
    "\n",
    "mpl.rcParams.update(rcParams)\n",
    "\n",
    "\n",
    "from scipy.signal import argrelmax, argrelmin\n"
   ]
  },
  {
   "cell_type": "code",
   "execution_count": 2,
   "metadata": {},
   "outputs": [],
   "source": [
    "def load(filename: str):\n",
    "    return pd.read_csv(filename)"
   ]
  },
  {
   "cell_type": "code",
   "execution_count": 3,
   "metadata": {},
   "outputs": [],
   "source": [
    "import_path = '../data/I_75_mot'\n",
    "datas_temp = []\n",
    "for i in range(30):\n",
    "    datas_temp.append(load(import_path + str(i+1) + '.csv'))"
   ]
  },
  {
   "cell_type": "code",
   "execution_count": 4,
   "metadata": {},
   "outputs": [],
   "source": [
    "datas = []\n",
    "for battement in datas_temp:\n",
    "    t, x, y = battement['Temps'].to_numpy(), battement['X'].to_numpy(), battement['Y'].to_numpy()\n",
    "    moyx = np.mean(x)\n",
    "    moyy = np.mean(y)\n",
    "    datas.append((t, x-moyx, y-moyy))"
   ]
  },
  {
   "cell_type": "markdown",
   "metadata": {},
   "source": [
    "# Do the calcs"
   ]
  },
  {
   "cell_type": "code",
   "execution_count": 5,
   "metadata": {},
   "outputs": [],
   "source": [
    "# some math here\n",
    "\n",
    "# for battement in datas:\n",
    "#     t, x, y = battement[0], battement[1], battement[2]\n",
    "#     plt.plot(t, x)\n",
    "#     plt.plot(t, y)\n",
    "#     plt.show()"
   ]
  },
  {
   "cell_type": "code",
   "execution_count": 6,
   "metadata": {},
   "outputs": [],
   "source": [
    "omegas = []\n",
    "As = []\n",
    "psis_fit = []\n",
    "\n",
    "for battement in datas:\n",
    "    t, x, y = battement[0], battement[1], battement[2]\n",
    "        \n",
    "    fft_x = np.fft.fft(x)\n",
    "    fft_y = np.fft.fft(y)\n",
    "    fourier_x = np.abs(fft_x)\n",
    "    fourier_y = np.abs(fft_y)\n",
    "    \n",
    "    spacing = t[-1]/len(t)\n",
    "    freq = np.fft.fftfreq(t.shape[-1], d=spacing)\n",
    "    \n",
    "    arg_max_x = np.argmax(fourier_x)\n",
    "    arg_max_y = np.argmax(fourier_y)\n",
    "    omega = np.abs(freq[arg_max_x] * 2*np.pi)\n",
    "    Omega = np.abs(freq[arg_max_y] * 2*np.pi)\n",
    "    omega_val = np.mean([omega, Omega])\n",
    "    \n",
    "    period = 2*np.pi/omega_val\n",
    "    delta_omega = 2*np.pi*delta_T/(period**2)\n",
    "    omega = ufloat(omega_val, delta_omega)\n",
    "    omegas.append(omega)\n",
    "\n",
    "    psi_val = np.angle(fft_y[arg_max_y]/fft_x[arg_max_x])\n",
    "    # psi_val = np.angle(fft_x[arg_max_x]) - np.angle(fft_y[arg_max_y])\n",
    "    psi = ufloat(psi_val, 0.1)\n",
    "    psis_fit.append(psi)\n",
    "\n",
    "    extrems_x = np.concatenate((argrelmax(x, order=3)[0], argrelmin(x, order=3)[0]))\n",
    "    ampl = np.abs(x)[extrems_x]\n",
    "    A = ufloat(np.mean(ampl), np.std(ampl))\n",
    "    As.append(A)\n",
    "    \n",
    "    \n",
    "    # def permanent(time, omega, psi):\n",
    "    #     return nom_vals(A)*np.sin(omega*time - psi)\n",
    "    # results = sc.optimize.curve_fit(permanent, t, x, p0=[omega_temp, omega_temp*np.pi/8])\n",
    "    # coefs = results[0]\n",
    "    # errors = results[1]\n",
    "    \n",
    "    # omega_val = coefs[0]\n",
    "\n",
    "    \n",
    "    \n",
    "    # plt.plot(t, x)\n",
    "    # plt.plot(t, permanent(t, nom_vals(omega), nom_vals(psi)))\n",
    "    # plt.show()\n",
    "    \n",
    "\n"
   ]
  },
  {
   "cell_type": "code",
   "execution_count": 7,
   "metadata": {},
   "outputs": [],
   "source": [
    "omegas = np.array(omegas)\n",
    "As = np.array(As)\n",
    "psis_fit = np.array(psis_fit)"
   ]
  },
  {
   "cell_type": "code",
   "execution_count": 8,
   "metadata": {},
   "outputs": [
    {
     "data": {
      "image/png": "[encoded data removed]",
      "text/plain": [
       "<Figure size 450x350 with 1 Axes>"
      ]
     },
     "metadata": {},
     "output_type": "display_data"
    },
    {
     "data": {
      "image/png": "[encoded data removed]",
      "text/plain": [
       "<Figure size 450x350 with 1 Axes>"
      ]
     },
     "metadata": {},
     "output_type": "display_data"
    }
   ],
   "source": [
    "plt.errorbar(nom_vals(omegas), nom_vals(As), yerr=std_devs(As), xerr=std_devs(omegas), ls=' ')\n",
    "plt.grid()\n",
    "plt.show()\n",
    "\n",
    "\n",
    "PSI = []\n",
    "for el in psis_fit:\n",
    "    if (nom_vals(el) < 0):\n",
    "        el += np.pi\n",
    "    PSI.append(el)\n",
    "PSI = np.array(PSI)\n",
    "plt.scatter(nom_vals(omegas), nom_vals(PSI))\n",
    "plt.grid()"
   ]
  },
  {
   "cell_type": "code",
   "execution_count": 9,
   "metadata": {},
   "outputs": [
    {
     "name": "stdout",
     "output_type": "stream",
     "text": [
      "4.07+/-0.13 0.249+/-0.006 4.08+/-0.13\n"
     ]
    }
   ],
   "source": [
    "omega_r = omegas[np.argmax(nom_vals(As))]\n",
    "lamb = ufloat(0.2490454386540274, 0.005560368841201457)\n",
    "\n",
    "omega_trans = unp.sqrt(lamb**2 + omega_r**2)\n",
    "omega_0 = unp.sqrt(lamb**2 + omega_trans**2)\n",
    "\n",
    "print(omega_r, lamb, omega_trans)"
   ]
  },
  {
   "cell_type": "code",
   "execution_count": 10,
   "metadata": {},
   "outputs": [
    {
     "name": "stdout",
     "output_type": "stream",
     "text": [
      "delta_Omega = 0.499+/-0.011 \n",
      "Q = 8.16+/-0.32\n"
     ]
    }
   ],
   "source": [
    "delta_Omega = 2*lamb*omega_trans/omega_r\n",
    "Q = omega_r/delta_Omega\n",
    "print(f\"delta_Omega = {delta_Omega} \\nQ = {Q}\")"
   ]
  },
  {
   "cell_type": "code",
   "execution_count": 11,
   "metadata": {},
   "outputs": [],
   "source": [
    "# def psi_th(Omega):\n",
    "#     return unp.arctan(2*lamb*Omega/(omega_0**2 - Omega**2))"
   ]
  },
  {
   "cell_type": "code",
   "execution_count": 18,
   "metadata": {},
   "outputs": [
    {
     "data": {
      "text/plain": [
       "[<matplotlib.lines.Line2D at 0x7f36a6f543d0>]"
      ]
     },
     "execution_count": 18,
     "metadata": {},
     "output_type": "execute_result"
    },
    {
     "data": {
      "image/png": "[encoded data removed]",
      "text/plain": [
       "<Figure size 450x350 with 1 Axes>"
      ]
     },
     "metadata": {},
     "output_type": "display_data"
    }
   ],
   "source": [
    "psis_th = unp.arctan(2*lamb*omegas/(omega_0**2 - omegas**2))\n",
    "PSI_th = []\n",
    "for el in psis_th:\n",
    "    if (nom_vals(el) < 0):\n",
    "        el += np.pi\n",
    "    PSI_th.append(el)\n",
    "PSI_th = np.array(PSI_th)\n",
    "\n",
    "indices = np.argsort(omegas)\n",
    "\n",
    "# masque = range(len(PSI), 3)\n",
    "# plt.errorbar(nom_vals(omegas), nom_vals(PSI), yerr=std_devs(PSI), xerr=std_devs(omegas), ls=' ')\n",
    "plt.scatter(nom_vals(omegas), nom_vals(PSI))\n",
    "plt.plot(np.take_along_axis(nom_vals(omegas), indices, axis=0), np.take_along_axis(nom_vals(PSI_th), indices, axis=0))\n"
   ]
  },
  {
   "cell_type": "code",
   "execution_count": null,
   "metadata": {},
   "outputs": [],
   "source": []
  }
 ],
 "metadata": {
  "kernelspec": {
   "display_name": ".venv",
   "language": "python",
   "name": "python3"
  },
  "language_info": {
   "codemirror_mode": {
    "name": "ipython",
    "version": 3
   },
   "file_extension": ".py",
   "mimetype": "text/x-python",
   "name": "python",
   "nbconvert_exporter": "python",
   "pygments_lexer": "ipython3",
   "version": "3.11.6"
  }
 },
 "nbformat": 4,
 "nbformat_minor": 2
}
