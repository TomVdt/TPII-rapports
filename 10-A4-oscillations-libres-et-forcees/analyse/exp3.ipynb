{
 "cells": [
  {
   "cell_type": "markdown",
   "metadata": {},
   "source": [
    "# Forcées résonance\n"
   ]
  },
  {
   "cell_type": "code",
   "execution_count": 1,
   "metadata": {},
   "outputs": [],
   "source": [
    "import numpy as np\n",
    "import pandas as pd\n",
    "import scipy as sc\n",
    "import matplotlib as mpl\n",
    "import matplotlib.pyplot as plt\n",
    "from uncertainties import unumpy as unp\n",
    "from uncertainties import ufloat, umath\n",
    "from options import *\n",
    "from constants import *\n",
    "\n",
    "nom_vals = unp.nominal_values\n",
    "std_devs = unp.std_devs\n",
    "\n",
    "mpl.rcParams.update(rcParams)\n",
    "\n",
    "\n",
    "from scipy.signal import argrelmax, argrelmin\n"
   ]
  },
  {
   "cell_type": "code",
   "execution_count": 2,
   "metadata": {},
   "outputs": [],
   "source": [
    "def load(filename: str):\n",
    "    return pd.read_csv(filename)"
   ]
  },
  {
   "cell_type": "code",
   "execution_count": 3,
   "metadata": {},
   "outputs": [],
   "source": [
    "import_path = '../data/I_75_mot'\n",
    "datas_temp = []\n",
    "for i in range(30):\n",
    "    datas_temp.append(load(import_path + str(i+1) + '.csv'))"
   ]
  },
  {
   "cell_type": "code",
   "execution_count": 4,
   "metadata": {},
   "outputs": [],
   "source": [
    "datas = []\n",
    "for battement in datas_temp:\n",
    "    t, x, y = battement['Temps'].to_numpy(), battement['X'].to_numpy(), battement['Y'].to_numpy()\n",
    "    moyx = np.mean(x)\n",
    "    moyy = np.mean(y)\n",
    "    datas.append((t, x-moyx, y-moyy))"
   ]
  },
  {
   "cell_type": "markdown",
   "metadata": {},
   "source": [
    "# Do the calcs"
   ]
  },
  {
   "cell_type": "code",
   "execution_count": 5,
   "metadata": {},
   "outputs": [],
   "source": [
    "# some math here\n",
    "\n",
    "# for battement in datas:\n",
    "#     t, x, y = battement[0], battement[1], battement[2]\n",
    "#     plt.plot(t, x)\n",
    "#     plt.plot(t, y)\n",
    "#     plt.show()"
   ]
  },
  {
   "cell_type": "code",
   "execution_count": 6,
   "metadata": {},
   "outputs": [],
   "source": [
    "omegas = []\n",
    "As = []\n",
    "\n",
    "for battement in datas:\n",
    "    t, x, y = battement[0], battement[1], battement[2]\n",
    "\n",
    "\n",
    "    fourier_x = np.abs(np.fft.fft(x))\n",
    "    fourier_y = np.abs(np.fft.fft(y))\n",
    "\n",
    "    freq = np.fft.fftfreq(t.shape[-1])\n",
    "    omega = np.abs(freq[np.argmax(fourier_x)] * 2*np.pi)\n",
    "    Omega = np.abs(freq[np.argmax(fourier_y)] * 2*np.pi)\n",
    "    # print(f'omega = {omega} = Omega = {Omega}')\n",
    "    # plt.plot(freq, fourier_x)\n",
    "    # plt.plot(freq, fourier_y)\n",
    "    # plt.grid()\n",
    "    # plt.xlim([-0.25, 0.25])\n",
    "    # plt.show()\n",
    "    period = 2*np.pi/omega\n",
    "    delta_omega = 2*np.pi*delta_T/(period**2)\n",
    "    omega = ufloat(np.mean([omega, Omega]), delta_omega)\n",
    "    \n",
    "    omegas.append(omega)\n",
    "\n",
    "\n",
    "    extrems_x = np.concatenate((argrelmax(x, order=3)[0], argrelmin(x, order=3)[0]))\n",
    "    # extrems_x = np.sort(extrems_x)\n",
    "    ampl = np.abs(x)[extrems_x]\n",
    "    A = ufloat(np.mean(ampl), np.std(ampl))\n",
    "    As.append(A)\n",
    "    # plt.vlines(t[extrems_x], ymax=0.2, ymin=-0.2)\n",
    "    # plt.plot(t, x)\n",
    "    # plt.show()\n"
   ]
  },
  {
   "cell_type": "code",
   "execution_count": 7,
   "metadata": {},
   "outputs": [
    {
     "data": {
      "text/plain": [
       "<matplotlib.collections.PathCollection at 0x7f474116fed0>"
      ]
     },
     "execution_count": 7,
     "metadata": {},
     "output_type": "execute_result"
    },
    {
     "data": {
      "image/png": "[encoded data removed]",
      "text/plain": [
       "<Figure size 450x350 with 1 Axes>"
      ]
     },
     "metadata": {},
     "output_type": "display_data"
    }
   ],
   "source": [
    "omegas = np.array(omegas)\n",
    "As = np.array(As)\n",
    "\n",
    "plt.scatter(nom_vals(omegas), nom_vals(As))"
   ]
  },
  {
   "cell_type": "code",
   "execution_count": null,
   "metadata": {},
   "outputs": [],
   "source": [
    "def permanent(time, A, psi):\n",
    "    return A*np.sin(omega*time - psi)"
   ]
  },
  {
   "cell_type": "code",
   "execution_count": null,
   "metadata": {},
   "outputs": [],
   "source": [
    "coefs = sc.optimize.minimize(permanent(t), ())"
   ]
  }
 ],
 "metadata": {
  "kernelspec": {
   "display_name": ".venv",
   "language": "python",
   "name": "python3"
  },
  "language_info": {
   "codemirror_mode": {
    "name": "ipython",
    "version": 3
   },
   "file_extension": ".py",
   "mimetype": "text/x-python",
   "name": "python",
   "nbconvert_exporter": "python",
   "pygments_lexer": "ipython3",
   "version": "3.11.6"
  }
 },
 "nbformat": 4,
 "nbformat_minor": 2
}
