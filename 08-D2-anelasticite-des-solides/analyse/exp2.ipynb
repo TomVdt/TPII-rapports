{
 "cells": [
  {
   "cell_type": "markdown",
   "metadata": {},
   "source": [
    "# Capacité d'amortissement"
   ]
  },
  {
   "cell_type": "code",
   "execution_count": 1,
   "metadata": {},
   "outputs": [],
   "source": [
    "import numpy as np\n",
    "import pandas as pd\n",
    "import scipy as sc\n",
    "import matplotlib as mpl\n",
    "import matplotlib.pyplot as plt\n",
    "from uncertainties import unumpy as unp\n",
    "from uncertainties import ufloat, umath\n",
    "from options import *\n",
    "from constants import *\n",
    "\n",
    "nom_vals = unp.nominal_values\n",
    "std_devs = unp.std_devs\n",
    "\n",
    "mpl.rcParams.update(rcParams)"
   ]
  },
  {
   "cell_type": "code",
   "execution_count": 2,
   "metadata": {},
   "outputs": [],
   "source": [
    "def load(filename: str):\n",
    "    return pd.read_csv(filename)"
   ]
  },
  {
   "cell_type": "code",
   "execution_count": 3,
   "metadata": {},
   "outputs": [],
   "source": [
    "titane = load('../data/titane.csv')\n",
    "laiton = load('../data/laiton.csv')\n",
    "acier_doux = load('../data/acier_doux.csv')"
   ]
  },
  {
   "cell_type": "code",
   "execution_count": 4,
   "metadata": {},
   "outputs": [],
   "source": [
    "# Vars\n",
    "# Delta = ... # LE PARAM QU'ON CHERCHE A FIT? 2 * hauteur max de Q^-1\n",
    "# T = ...     # Temp\n",
    "# T_p = ...   # argmax(Q_inv)\n",
    "# T_1 = ...   # temperature a mi-hauteur 1\n",
    "# T_2 = ...   # temperature a mi-hauteur 2\n",
    "# k = ...     # boltzmann\n",
    "# H = 2.663 * k / (1/T_2 - 1/T_1) # largeur du pic"
   ]
  },
  {
   "cell_type": "code",
   "execution_count": 5,
   "metadata": {},
   "outputs": [],
   "source": [
    "# def Q_inv(T, Delta):\n",
    "#     return Delta / (2 * np.cosh(H / k * (1/T_p - 1/T)))"
   ]
  },
  {
   "cell_type": "code",
   "execution_count": 6,
   "metadata": {},
   "outputs": [
    {
     "name": "stdout",
     "output_type": "stream",
     "text": [
      "titane Q_1 = \\left(7.20 \\pm 0.02\\right) \\times 10^{-5}\n"
     ]
    }
   ],
   "source": [
    "Q_1_tit_raw = titane['fit_Q_1'] # no unit\n",
    "\n",
    "Q_1_tit_avg = np.mean(Q_1_tit_raw)\n",
    "Q_1_tit_std = np.std(Q_1_tit_raw)\n",
    "\n",
    "cache = np.abs(Q_1_tit_raw - Q_1_tit_avg) < 3*Q_1_tit_std\n",
    "Q_1_tit_raw = Q_1_tit_raw[cache]\n",
    "\n",
    "\n",
    "Q_1_tit_avg = np.mean(Q_1_tit_raw)\n",
    "Q_1_tit_std = np.std(Q_1_tit_raw)\n",
    "\n",
    "Q_1_tit = ufloat(Q_1_tit_avg, Q_1_tit_std)\n",
    "\n",
    "# print(Q_1_tit_avg, Q_1_tit_std)\n",
    "print(f'titane Q_1 = {Q_1_tit:.1uL}')"
   ]
  },
  {
   "cell_type": "code",
   "execution_count": 7,
   "metadata": {},
   "outputs": [
    {
     "name": "stdout",
     "output_type": "stream",
     "text": [
      "laiton Q_1 = \\left(5.32 \\pm 0.05\\right) \\times 10^{-5}\n"
     ]
    }
   ],
   "source": [
    "Q_1_lait_raw = laiton['fit_Q_1'] # no unit\n",
    "\n",
    "Q_1_lait_avg = np.mean(Q_1_lait_raw)\n",
    "Q_1_lait_std = np.std(Q_1_lait_raw)\n",
    "\n",
    "cache = np.abs(Q_1_lait_raw - Q_1_lait_avg) < 3*Q_1_lait_std\n",
    "Q_1_lait_raw = Q_1_lait_raw[cache]\n",
    "\n",
    "\n",
    "Q_1_lait_avg = np.mean(Q_1_lait_raw)\n",
    "Q_1_lait_std = np.std(Q_1_lait_raw)\n",
    "\n",
    "\n",
    "Q_1_lait = ufloat(Q_1_lait_avg, Q_1_lait_std)\n",
    "\n",
    "# print(Q_1_tit_avg, Q_1_tit_std)\n",
    "print(f'laiton Q_1 = {Q_1_lait:.1uL}')"
   ]
  },
  {
   "cell_type": "code",
   "execution_count": 9,
   "metadata": {},
   "outputs": [
    {
     "name": "stdout",
     "output_type": "stream",
     "text": [
      "acier doux Q_1 = \\left(2.61 \\pm 0.04\\right) \\times 10^{-4}\n"
     ]
    }
   ],
   "source": [
    "Q_1_doux_raw = acier_doux['fit_Q_1'] # no unit\n",
    "\n",
    "Q_1_doux_avg = np.mean(Q_1_doux_raw)\n",
    "Q_1_doux_std = np.std(Q_1_doux_raw)\n",
    "\n",
    "cache = np.abs(Q_1_doux_raw - Q_1_doux_avg) < 3*Q_1_doux_std\n",
    "Q_1_doux_raw = Q_1_doux_raw[cache]\n",
    "\n",
    "\n",
    "Q_1_doux_avg = np.mean(Q_1_doux_raw)\n",
    "Q_1_doux_std = np.std(Q_1_doux_raw)\n",
    "\n",
    "Q_1_doux = ufloat(Q_1_doux_avg, Q_1_doux_std)\n",
    "\n",
    "# print(Q_1_tit_avg, Q_1_tit_std)\n",
    "print(f'acier doux Q_1 = {Q_1_doux:.1ueL}')"
   ]
  },
  {
   "cell_type": "code",
   "execution_count": null,
   "metadata": {},
   "outputs": [],
   "source": []
  }
 ],
 "metadata": {
  "kernelspec": {
   "display_name": ".venv",
   "language": "python",
   "name": "python3"
  },
  "language_info": {
   "codemirror_mode": {
    "name": "ipython",
    "version": 3
   },
   "file_extension": ".py",
   "mimetype": "text/x-python",
   "name": "python",
   "nbconvert_exporter": "python",
   "pygments_lexer": "ipython3",
   "version": "3.12.2"
  }
 },
 "nbformat": 4,
 "nbformat_minor": 2
}
