{
 "cells": [
  {
   "cell_type": "markdown",
   "metadata": {},
   "source": [
    "# Module élastique"
   ]
  },
  {
   "cell_type": "code",
   "execution_count": 7,
   "metadata": {},
   "outputs": [],
   "source": [
    "import numpy as np\n",
    "import pandas as pd\n",
    "import scipy as sc\n",
    "import matplotlib as mpl\n",
    "import matplotlib.pyplot as plt\n",
    "from uncertainties import unumpy as unp\n",
    "from uncertainties import ufloat, umath\n",
    "from options import *\n",
    "from constants import *\n",
    "\n",
    "nom_vals = unp.nominal_values\n",
    "std_devs = unp.std_devs\n",
    "\n",
    "mpl.rcParams.update(rcParams)"
   ]
  },
  {
   "cell_type": "code",
   "execution_count": 8,
   "metadata": {},
   "outputs": [],
   "source": [
    "def load(filename: str):\n",
    "    return pd.read_csv(filename)"
   ]
  },
  {
   "cell_type": "code",
   "execution_count": 9,
   "metadata": {},
   "outputs": [],
   "source": [
    "titane = load('../data/titane.csv')\n",
    "laiton = load('../data/laiton.csv')\n",
    "acier_doux = load('../data/acier_doux.csv')"
   ]
  },
  {
   "cell_type": "markdown",
   "metadata": {},
   "source": [
    "## Calculate this"
   ]
  },
  {
   "cell_type": "code",
   "execution_count": 10,
   "metadata": {},
   "outputs": [
    {
     "name": "stdout",
     "output_type": "stream",
     "text": [
      "107.8+/-3.1 129.7768086956522\n",
      "titane E = 108±3 GPa\n"
     ]
    }
   ],
   "source": [
    "E_auto = titane['E[Pa]'] * 1e-9  # GPa\n",
    "E_auto_avg = np.mean(E_auto)\n",
    "\n",
    "freq = unp.uarray(titane['Fres[Hz]'], titane['Fres_std[Hz]'])\n",
    "E_err = 0.943 * (titane_densite * 1e3) * (titane_longueur * 1e-3)**4 * freq**2 / ((titane_epaisseur * 1e-3)**2)\n",
    "E_err *= 1e-9  # GPa\n",
    "E_err_avg = np.mean(E_err)\n",
    "\n",
    "# Écart entre auto et calculé normal car coiboubage pour la longueur\n",
    "print(E_err_avg, E_auto_avg)\n",
    "print(f'titane E = {E_err_avg:.1uP} GPa')"
   ]
  },
  {
   "cell_type": "code",
   "execution_count": 11,
   "metadata": {},
   "outputs": [
    {
     "name": "stdout",
     "output_type": "stream",
     "text": [
      "100.9+/-3.0 101.25920526315791\n",
      "laiton E = 101±3 GPa\n"
     ]
    }
   ],
   "source": [
    "E_auto = laiton['E[Pa]'] * 1e-9  # GPa\n",
    "E_auto_avg = np.mean(E_auto)\n",
    "\n",
    "freq = unp.uarray(laiton['Fres[Hz]'], laiton['Fres_std[Hz]'])\n",
    "E_err = 0.943 * (laiton_densite * 1e3) * (laiton_longueur * 1e-3)**4 * freq**2 / ((laiton_epaisseur * 1e-3)**2)\n",
    "E_err *= 1e-9  # GPa\n",
    "E_err_avg = np.mean(E_err)\n",
    "\n",
    "# Faible écart\n",
    "print(E_err_avg, E_auto_avg)\n",
    "print(f'laiton E = {E_err_avg:.1uP} GPa')"
   ]
  },
  {
   "cell_type": "code",
   "execution_count": 12,
   "metadata": {},
   "outputs": [
    {
     "name": "stdout",
     "output_type": "stream",
     "text": [
      "180+/-7 180.79567500000002\n",
      "acier_doux E = 180±7 GPa\n"
     ]
    }
   ],
   "source": [
    "E_auto = acier_doux['E[Pa]'] * 1e-9  # GPa\n",
    "E_auto_avg = np.mean(E_auto)\n",
    "\n",
    "freq = unp.uarray(acier_doux['Fres[Hz]'], acier_doux['Fres_std[Hz]'])\n",
    "E_err = 0.943 * (acier_doux_densite * 1e3) * (acier_doux_longueur * 1e-3)**4 * freq**2 / ((acier_doux_epaisseur * 1e-3)**2)\n",
    "E_err *= 1e-9  # GPa\n",
    "E_err_avg = np.mean(E_err)\n",
    "\n",
    "# Écart entre auto et calculé normal car coiboubage pour la longueur\n",
    "print(E_err_avg, E_auto_avg)\n",
    "print(f'acier_doux E = {E_err_avg:.1uP} GPa')"
   ]
  }
 ],
 "metadata": {
  "kernelspec": {
   "display_name": ".venv",
   "language": "python",
   "name": "python3"
  },
  "language_info": {
   "codemirror_mode": {
    "name": "ipython",
    "version": 3
   },
   "file_extension": ".py",
   "mimetype": "text/x-python",
   "name": "python",
   "nbconvert_exporter": "python",
   "pygments_lexer": "ipython3",
   "version": "3.11.6"
  }
 },
 "nbformat": 4,
 "nbformat_minor": 2
}
