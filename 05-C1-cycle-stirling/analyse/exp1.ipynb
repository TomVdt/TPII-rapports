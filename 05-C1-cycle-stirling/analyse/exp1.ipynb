{
 "cells": [
  {
   "cell_type": "markdown",
   "metadata": {},
   "source": [
    "# Efficacité"
   ]
  },
  {
   "cell_type": "code",
   "execution_count": 1,
   "metadata": {},
   "outputs": [],
   "source": [
    "import numpy as np\n",
    "import pandas as pd\n",
    "import matplotlib as mpl\n",
    "import matplotlib.pyplot as plt\n",
    "from uncertainties import unumpy as unp\n",
    "from uncertainties import ufloat, umath\n",
    "from options import *\n",
    "from constants import *\n",
    "\n",
    "mpl.rcParams.update(rcParams)"
   ]
  },
  {
   "cell_type": "code",
   "execution_count": 2,
   "metadata": {},
   "outputs": [],
   "source": [
    "def load(filename: str):\n",
    "    return pd.read_csv(filename)"
   ]
  },
  {
   "cell_type": "code",
   "execution_count": 3,
   "metadata": {},
   "outputs": [
    {
     "name": "stdout",
     "output_type": "stream",
     "text": [
      "Phi 2: 171.92+/-0.19\n"
     ]
    }
   ],
   "source": [
    "phi2 = U_fil * I_fil\n",
    "print(f\"Phi 2: {phi2}\")"
   ]
  },
  {
   "cell_type": "code",
   "execution_count": 4,
   "metadata": {},
   "outputs": [
    {
     "name": "stdout",
     "output_type": "stream",
     "text": [
      "V_max = (3.7±0.3)×10² cm^3\n",
      "V_min = (7±1)×10¹ cm^3\n"
     ]
    }
   ],
   "source": [
    "print(f\"V_max = {V_max:.1uP} cm^3\")\n",
    "print(f\"V_min = {V_min:.1uP} cm^3\")"
   ]
  },
  {
   "cell_type": "markdown",
   "metadata": {},
   "source": [
    "## Theorique"
   ]
  },
  {
   "cell_type": "code",
   "execution_count": 5,
   "metadata": {},
   "outputs": [
    {
     "name": "stdout",
     "output_type": "stream",
     "text": [
      "Efficacité théorique: (74+/-2)%\n"
     ]
    }
   ],
   "source": [
    "rho_theo = 1 - (T_eau_in + T_eau_out) / (2 * T_fil)\n",
    "print(f\"Efficacité théorique: {rho_theo:.1u%}\")"
   ]
  },
  {
   "cell_type": "markdown",
   "metadata": {},
   "source": [
    "## Diagramme PV"
   ]
  },
  {
   "cell_type": "code",
   "execution_count": 15,
   "metadata": {},
   "outputs": [
    {
     "name": "stdout",
     "output_type": "stream",
     "text": [
      "Puissance: 13±4 W\n",
      "Efficacité PV: (7+/-3)%\n"
     ]
    }
   ],
   "source": [
    "x_density = (V_max - V_min) * 1e-6 / 211 # m^3 / bloc\n",
    "y_density = (P_max - P_min) * 100_000 / 205 # pa / bloc\n",
    "# x_density = (V_max - V_min) * 1e-6 / 21 # m^3 / bloc\n",
    "# y_density = (P_max - P_min) * 100_000 / 20.3 # pascal / bloc\n",
    "# x_density = (V_max - V_min) * 1e-3 / 21.1 # dm^3 / cm\n",
    "# y_density = (P_max - P_min) / 20.3 # bar / cm\n",
    "\n",
    "omega = (ufloat(229, 10) / 60) # 1 / s = Hz\n",
    "\n",
    "callibration = (x_density * y_density) # (m^3 * Pa/bloc) = J/bloc\n",
    "\n",
    "aire = ufloat(100*70+25*(83+5+30+29), 20) # petits bloc\n",
    "# aire = ufloat(103, 5) # gros bloc\n",
    "# aire = ufloat(116, 10) # cm^2\n",
    "\n",
    "W = callibration * aire\n",
    "P_m = W * omega # W = J/s\n",
    "print(f\"Puissance: {P_m:.1uP} W\")\n",
    "\n",
    "rho_pv = P_m / phi2\n",
    "print(f\"Efficacité PV: {rho_pv:.1u%}\")"
   ]
  },
  {
   "cell_type": "markdown",
   "metadata": {},
   "source": [
    "## Methode freinage"
   ]
  },
  {
   "cell_type": "code",
   "execution_count": 7,
   "metadata": {},
   "outputs": [
    {
     "data": {
      "text/html": [
       "<div>\n",
       "<style scoped>\n",
       "    .dataframe tbody tr th:only-of-type {\n",
       "        vertical-align: middle;\n",
       "    }\n",
       "\n",
       "    .dataframe tbody tr th {\n",
       "        vertical-align: top;\n",
       "    }\n",
       "\n",
       "    .dataframe thead th {\n",
       "        text-align: right;\n",
       "    }\n",
       "</style>\n",
       "<table border=\"1\" class=\"dataframe\">\n",
       "  <thead>\n",
       "    <tr style=\"text-align: right;\">\n",
       "      <th></th>\n",
       "      <th>omega [rpm]</th>\n",
       "      <th>F [N]</th>\n",
       "    </tr>\n",
       "  </thead>\n",
       "  <tbody>\n",
       "    <tr>\n",
       "      <th>0</th>\n",
       "      <td>229.0</td>\n",
       "      <td>0.0</td>\n",
       "    </tr>\n",
       "    <tr>\n",
       "      <th>1</th>\n",
       "      <td>215.0</td>\n",
       "      <td>0.2</td>\n",
       "    </tr>\n",
       "    <tr>\n",
       "      <th>2</th>\n",
       "      <td>207.6</td>\n",
       "      <td>0.4</td>\n",
       "    </tr>\n",
       "    <tr>\n",
       "      <th>3</th>\n",
       "      <td>200.0</td>\n",
       "      <td>0.6</td>\n",
       "    </tr>\n",
       "    <tr>\n",
       "      <th>4</th>\n",
       "      <td>194.6</td>\n",
       "      <td>0.8</td>\n",
       "    </tr>\n",
       "    <tr>\n",
       "      <th>5</th>\n",
       "      <td>192.3</td>\n",
       "      <td>1.0</td>\n",
       "    </tr>\n",
       "    <tr>\n",
       "      <th>6</th>\n",
       "      <td>189.7</td>\n",
       "      <td>1.2</td>\n",
       "    </tr>\n",
       "    <tr>\n",
       "      <th>7</th>\n",
       "      <td>192.3</td>\n",
       "      <td>1.4</td>\n",
       "    </tr>\n",
       "    <tr>\n",
       "      <th>8</th>\n",
       "      <td>190.2</td>\n",
       "      <td>1.6</td>\n",
       "    </tr>\n",
       "    <tr>\n",
       "      <th>9</th>\n",
       "      <td>187.2</td>\n",
       "      <td>1.8</td>\n",
       "    </tr>\n",
       "  </tbody>\n",
       "</table>\n",
       "</div>"
      ],
      "text/plain": [
       "   omega [rpm]  F [N]\n",
       "0        229.0    0.0\n",
       "1        215.0    0.2\n",
       "2        207.6    0.4\n",
       "3        200.0    0.6\n",
       "4        194.6    0.8\n",
       "5        192.3    1.0\n",
       "6        189.7    1.2\n",
       "7        192.3    1.4\n",
       "8        190.2    1.6\n",
       "9        187.2    1.8"
      ]
     },
     "execution_count": 7,
     "metadata": {},
     "output_type": "execute_result"
    }
   ],
   "source": [
    "data = load(\"../data/couple-regime2.csv\")\n",
    "data"
   ]
  },
  {
   "cell_type": "code",
   "execution_count": 8,
   "metadata": {},
   "outputs": [],
   "source": [
    "ω = unp.uarray(data[\"omega [rpm]\"], 10) * 1/60  # tours / s\n",
    "F = unp.uarray(data[\"F [N]\"], 0.05) # N = kg * m / s^2\n",
    "# https://en.wikipedia.org/wiki/Torque#Conversion_to_other_units\n",
    "P_m = (ω * 2 * np.pi) * F * (r_disque * 0.01) # W = kg * m^2 / s^3\n",
    "\n",
    "\n",
    "rho_frein = P_m / phi2"
   ]
  },
  {
   "cell_type": "code",
   "execution_count": 9,
   "metadata": {},
   "outputs": [
    {
     "name": "stdout",
     "output_type": "stream",
     "text": [
      "Efficacité max: (0.82+/-0.05)%\n",
      "Efficacité min: (0.10+/-0.03)%\n",
      "Efficacité moyenne: (0.47+/-0.01)%\n"
     ]
    }
   ],
   "source": [
    "print(f\"Efficacité max: {np.max(rho_frein):.1u%}\")\n",
    "print(f\"Efficacité min: {np.min(rho_frein[1:]):.1u%}\")\n",
    "print(f\"Efficacité moyenne: {np.mean(rho_frein[1:]):.1u%}\")"
   ]
  },
  {
   "cell_type": "markdown",
   "metadata": {},
   "source": [
    "## Difference quantités de chaleur"
   ]
  },
  {
   "cell_type": "code",
   "execution_count": 10,
   "metadata": {},
   "outputs": [
    {
     "name": "stdout",
     "output_type": "stream",
     "text": [
      "Phi 1: 76.2+/-2.4\n",
      "Efficacité: (56+/-1)%\n"
     ]
    }
   ],
   "source": [
    "phi1 = delta_T_eau * C_m_eau * rho_eau * (debit_eau * 0.000001 * 1/60)\n",
    "print(f\"Phi 1: {phi1}\")\n",
    "\n",
    "P_m = phi2 - phi1\n",
    "rho_chaleur = P_m / phi2\n",
    "print(f\"Efficacité: {rho_chaleur:.1u%}\")"
   ]
  }
 ],
 "metadata": {
  "kernelspec": {
   "display_name": ".venv",
   "language": "python",
   "name": "python3"
  },
  "language_info": {
   "codemirror_mode": {
    "name": "ipython",
    "version": 3
   },
   "file_extension": ".py",
   "mimetype": "text/x-python",
   "name": "python",
   "nbconvert_exporter": "python",
   "pygments_lexer": "ipython3",
   "version": "3.11.6"
  }
 },
 "nbformat": 4,
 "nbformat_minor": 2
}
