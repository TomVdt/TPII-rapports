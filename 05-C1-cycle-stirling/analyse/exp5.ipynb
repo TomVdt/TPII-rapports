{
 "cells": [
  {
   "cell_type": "code",
   "execution_count": 1,
   "metadata": {},
   "outputs": [],
   "source": [
    "import numpy as np\n",
    "import pandas as pd\n",
    "import matplotlib as mpl\n",
    "import matplotlib.pyplot as plt\n",
    "from uncertainties import unumpy as unp\n",
    "from uncertainties import ufloat, umath\n",
    "from options import *\n",
    "from constants import *\n",
    "\n",
    "mpl.rcParams.update(rcParams)"
   ]
  },
  {
   "cell_type": "markdown",
   "metadata": {},
   "source": [
    "# Frigorifique"
   ]
  },
  {
   "cell_type": "code",
   "execution_count": 2,
   "metadata": {},
   "outputs": [],
   "source": [
    "def load(filename: str):\n",
    "    return pd.read_csv(filename, header=None, skiprows=1)"
   ]
  },
  {
   "cell_type": "code",
   "execution_count": 3,
   "metadata": {},
   "outputs": [
    {
     "name": "stdout",
     "output_type": "stream",
     "text": [
      "       0      1     2    3       4     5\n",
      "0  229.3  0.248  4.00  1.0   75.14  18.9\n",
      "1  226.8  0.241  5.75  1.5  125.00  21.0\n",
      "2  227.5  0.252  7.00  2.0  163.20  26.0\n",
      "3  229.1  0.284  8.00  2.0  208.20  25.0\n",
      "4  228.8  0.322  9.00  2.5  247.40  28.0\n",
      "5  229.8  0.235  4.50  1.0   76.42  25.0\n",
      "6  229.0  0.219  6.00  1.5  118.60  25.0\n",
      "7  229.0  0.265  7.50  2.0  180.80  25.0\n"
     ]
    }
   ],
   "source": [
    "mesures = load(\"../data/machine-frigo.csv\")\n",
    "print(mesures)"
   ]
  },
  {
   "cell_type": "code",
   "execution_count": 4,
   "metadata": {},
   "outputs": [
    {
     "data": {
      "image/png": "[encoded data removed]",
      "text/plain": [
       "<Figure size 400x300 with 1 Axes>"
      ]
     },
     "metadata": {},
     "output_type": "display_data"
    }
   ],
   "source": [
    "Umot = unp.uarray(mesures[0], 0.05)\n",
    "Imot = unp.uarray(mesures[1], 0.05)\n",
    "Pmot = Umot*Imot\n",
    "\n",
    "Ufil = unp.uarray(mesures[2], 0.05)\n",
    "Ifil = unp.uarray(mesures[3], 0.1)\n",
    "Pfil = Ufil*Ifil\n",
    "\n",
    "rend = Pfil/Pmot\n",
    "\n",
    "w = unp.uarray(mesures[4], mesures[4]*0.05)*2*np.pi/60\n",
    "\n",
    "plt.errorbar(unp.nominal_values(w), unp.nominal_values(rend) * 100, unp.std_devs(rend) * 100, unp.std_devs(w), fmt=',')\n",
    "\n",
    "plt.xlim(5,30)\n",
    "\n",
    "plt.ylabel(r\"$\\eta$ [\\%]\")\n",
    "plt.xlabel(r\"Vitesse angulaire [rad.s$^{-1}$]\")\n",
    "plt.grid()\n",
    "plt.tight_layout()\n",
    "plt.savefig(\"../figures/rend-frigo.pdf\")\n"
   ]
  },
  {
   "cell_type": "code",
   "execution_count": null,
   "metadata": {},
   "outputs": [],
   "source": []
  }
 ],
 "metadata": {
  "kernelspec": {
   "display_name": ".venv",
   "language": "python",
   "name": "python3"
  },
  "language_info": {
   "codemirror_mode": {
    "name": "ipython",
    "version": 3
   },
   "file_extension": ".py",
   "mimetype": "text/x-python",
   "name": "python",
   "nbconvert_exporter": "python",
   "pygments_lexer": "ipython3",
   "version": "3.11.6"
  }
 },
 "nbformat": 4,
 "nbformat_minor": 2
}
