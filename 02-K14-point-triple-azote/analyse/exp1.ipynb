{
 "cells": [
  {
   "cell_type": "markdown",
   "metadata": {},
   "source": [
    "# Cinetique du vide"
   ]
  },
  {
   "cell_type": "code",
   "execution_count": 1,
   "metadata": {},
   "outputs": [],
   "source": [
    "import numpy as np\n",
    "import pandas as pd\n",
    "import matplotlib.pyplot as plt\n",
    "import tuftelike\n",
    "from uncertainties import unumpy as unp\n",
    "from uncertainties import ufloat, umath"
   ]
  },
  {
   "cell_type": "code",
   "execution_count": 2,
   "metadata": {},
   "outputs": [],
   "source": [
    "from options import *\n",
    "import matplotlib as mpl\n",
    "\n",
    "# mpl.use('pgf')\n",
    "mpl.rcParams.update(rcParams)"
   ]
  },
  {
   "cell_type": "markdown",
   "metadata": {},
   "source": [
    "## Pompe à palettes"
   ]
  },
  {
   "cell_type": "code",
   "execution_count": 3,
   "metadata": {},
   "outputs": [],
   "source": [
    "data = np.loadtxt(\"../data/palette.csv\", float, delimiter=\",\", skiprows=1)\n",
    "t_start = 4\n",
    "time = data[:,0] - t_start  # s\n",
    "pressure = unp.uarray(data[:,1], data[:,2])  # mbar\n",
    "V = ufloat(5.5, 0.05)  # L"
   ]
  },
  {
   "cell_type": "code",
   "execution_count": 4,
   "metadata": {},
   "outputs": [
    {
     "data": {
      "text/plain": [
       "'p1=(6.2±0.1)×10²'"
      ]
     },
     "execution_count": 4,
     "metadata": {},
     "output_type": "execute_result"
    }
   ],
   "source": [
    "p1 = pressure[12]\n",
    "idx = time < 100\n",
    "plim = ufloat(1e-2, 1e-3)\n",
    "plog = unp.log((pressure[idx] - plim) / (p1 - plim))\n",
    "f\"{p1=:.1uP}\""
   ]
  },
  {
   "cell_type": "code",
   "execution_count": 5,
   "metadata": {},
   "outputs": [
    {
     "data": {
      "image/png": "[encoded data removed]",
      "text/plain": [
       "<Figure size 400x300 with 1 Axes>"
      ]
     },
     "metadata": {},
     "output_type": "display_data"
    }
   ],
   "source": [
    "start, end = 12, 40\n",
    "coefs, cov = np.polyfit(time[idx][start:end-1], unp.nominal_values(plog[start:end-1]), 1, cov=True)\n",
    "fit = np.poly1d(coefs)\n",
    "errcoefs = unp.uarray(coefs, cov[(0,1),(0,1)])\n",
    "x = np.linspace(time[idx][start] - 5, time[idx][end] + 20, 100)\n",
    "\n",
    "plt.plot(x, fit(x), '--', c='k', label=r\"$({:.2fL})t\\\\+({:.1uL})$\".format(*errcoefs))\n",
    "\n",
    "plt.errorbar(time[idx], unp.nominal_values(plog), yerr=unp.std_devs(plog), marker='s', ls='none')\n",
    "plt.xlabel(r\"t [\\unit{\\second}]\")\n",
    "plt.ylabel(r\"$\\ln{\\frac{P - P_\\textrm{lim}}{P_1 - P_\\textrm{lim}}}$\")\n",
    "plt.legend()\n",
    "\n",
    "plt.tight_layout(pad=0.5)\n",
    "plt.ticklabel_format(axis='y', style='sci', scilimits=(1,0))\n",
    "plt.savefig(\"../figures/cinetique_palettes.pdf\")"
   ]
  },
  {
   "cell_type": "code",
   "execution_count": 6,
   "metadata": {},
   "outputs": [
    {
     "data": {
      "text/plain": [
       "'S=1.12±0.01 L/s'"
      ]
     },
     "execution_count": 6,
     "metadata": {},
     "output_type": "execute_result"
    }
   ],
   "source": [
    "S = -V * errcoefs[0]\n",
    "f\"{S=:.1uP} L/s\""
   ]
  },
  {
   "cell_type": "markdown",
   "metadata": {},
   "source": [
    "## Pompe à diffusion"
   ]
  },
  {
   "cell_type": "code",
   "execution_count": 7,
   "metadata": {},
   "outputs": [],
   "source": [
    "data = np.loadtxt(\"../data/diffusion.csv\", float, delimiter=\",\", skiprows=1)\n",
    "t_start = 3\n",
    "time = data[:,0] - t_start  # s\n",
    "pressure = unp.uarray(data[:,1], data[:,2])  # mbar\n",
    "V = ufloat(5.5, 0.05)  # L"
   ]
  },
  {
   "cell_type": "code",
   "execution_count": 8,
   "metadata": {},
   "outputs": [
    {
     "data": {
      "text/plain": [
       "'p1=0.049±0.005'"
      ]
     },
     "execution_count": 8,
     "metadata": {},
     "output_type": "execute_result"
    }
   ],
   "source": [
    "p1 = pressure[3]\n",
    "idx = time < 100\n",
    "plim = ufloat(1.2e-5, 1e-6)\n",
    "plog = unp.log((pressure[idx] - plim) / (p1 - plim))\n",
    "f\"{p1=:.1uP}\""
   ]
  },
  {
   "cell_type": "code",
   "execution_count": 9,
   "metadata": {},
   "outputs": [
    {
     "data": {
      "image/png": "[encoded data removed]",
      "text/plain": [
       "<Figure size 400x300 with 1 Axes>"
      ]
     },
     "metadata": {},
     "output_type": "display_data"
    }
   ],
   "source": [
    "start, end = 3, 7\n",
    "coefs, cov = np.polyfit(time[idx][start:end-1], unp.nominal_values(plog[start:end-1]), 1, cov=True)\n",
    "fit = np.poly1d(coefs)\n",
    "errcoefs = unp.uarray(coefs, cov[(0,1),(0,1)])\n",
    "x = np.linspace(time[idx][start] - 1, time[idx][end] + 1, 100)\n",
    "\n",
    "plt.plot(x, fit(x), '--', c='k', label=r\"$({:.1uL})t+({:.1uL})$\".format(*errcoefs))\n",
    "\n",
    "plt.errorbar(time[idx], unp.nominal_values(plog), yerr=unp.std_devs(plog), marker='s', ls='none')\n",
    "plt.xlabel(r\"t [\\unit{\\second}]\")\n",
    "plt.ylabel(r\"$\\ln{\\frac{P - P_\\textrm{lim}}{P_1 - P_\\textrm{lim}}}$\")\n",
    "plt.legend()\n",
    "\n",
    "plt.tight_layout(pad=0.5)\n",
    "plt.ticklabel_format(axis='y', style='sci', scilimits=(1,0))\n",
    "plt.savefig(\"../figures/cinetique_diffusion.pdf\")"
   ]
  },
  {
   "cell_type": "code",
   "execution_count": 10,
   "metadata": {},
   "outputs": [
    {
     "data": {
      "text/plain": [
       "'S=9±1 L/s'"
      ]
     },
     "execution_count": 10,
     "metadata": {},
     "output_type": "execute_result"
    }
   ],
   "source": [
    "S = -V * errcoefs[0]\n",
    "f\"{S=:.1uP} L/s\" # L / s"
   ]
  },
  {
   "cell_type": "code",
   "execution_count": null,
   "metadata": {},
   "outputs": [],
   "source": []
  }
 ],
 "metadata": {
  "kernelspec": {
   "display_name": ".venv",
   "language": "python",
   "name": "python3"
  },
  "language_info": {
   "codemirror_mode": {
    "name": "ipython",
    "version": 3
   },
   "file_extension": ".py",
   "mimetype": "text/x-python",
   "name": "python",
   "nbconvert_exporter": "python",
   "pygments_lexer": "ipython3",
   "version": "3.11.6"
  }
 },
 "nbformat": 4,
 "nbformat_minor": 2
}
