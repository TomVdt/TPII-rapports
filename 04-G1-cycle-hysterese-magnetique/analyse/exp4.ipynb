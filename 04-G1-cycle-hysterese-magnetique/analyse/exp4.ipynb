{
 "cells": [
  {
   "cell_type": "markdown",
   "metadata": {},
   "source": [
    "# Valeurs des machins"
   ]
  },
  {
   "cell_type": "code",
   "execution_count": 12,
   "metadata": {},
   "outputs": [],
   "source": [
    "import numpy as np\n",
    "import pandas as pd\n",
    "import matplotlib as mpl\n",
    "import matplotlib.pyplot as plt\n",
    "from uncertainties import unumpy as unp\n",
    "from uncertainties import ufloat, umath, ufloat_fromstr\n",
    "import uncertainties as un\n",
    "from options import *\n",
    "from pathlib import Path\n",
    "\n",
    "mpl.rcParams.update(rcParams)"
   ]
  },
  {
   "cell_type": "code",
   "execution_count": 3,
   "metadata": {},
   "outputs": [
    {
     "data": {
      "text/plain": [
       "{'G1-anneau': [0.00867+/-0.00024, -0.2342+/-0.0017],\n",
       " 'G1-cylindre-acier-argent-chrome': [0.03972+/-0.00021, -0.023+/-0.0012],\n",
       " 'G1-cylindre-acier-doux': [0.0474+/-0.00015, 0.0192+/-0.0008],\n",
       " 'G1-cylindre-alu': [0.019027+/-5e-06, 0.000694+/-1e-05],\n",
       " 'G1-cylindre-cuivre': [0.018744+/-2.5e-05, 0.002112+/-3.2e-05],\n",
       " 'G1-cylindre-laiton': [0.019291+/-5e-06, -0.00084+/-7e-06],\n",
       " 'G1-cylindre-monel400': [0.020996+/-1.2e-05, -0.026+/-7e-05],\n",
       " 'G1-cylindre-nickel200': [0.021185+/-2.4e-05, -0.02978+/-0.00013],\n",
       " 'G1-cylindre-vide': [0.01913+/-6e-06, 9.2e-05+/-7e-06],\n",
       " 'G1-phywe-acdoux-combo': [0.0896+/-0.0005, 0.0169+/-0.0015],\n",
       " 'G1-phywe-acdoux': [0.0798+/-0.00027, 0.0524+/-0.0011],\n",
       " 'G1-phywe-alu-combo': [0.07529+/-6e-05, 0.00083+/-4e-05],\n",
       " 'G1-phywe-alu': [0.07436+/-5e-05, 0.00336+/-4e-05],\n",
       " 'G1-phywe-avec-bloc-horiz': [0.04399+/-0.00028, -0.0419+/-0.0009],\n",
       " 'G1-phywe-avec-bloc-penche': [0.0579+/-0.0004, -0.0113+/-0.0014],\n",
       " 'G1-phywe-avec-bloc': [0.0904+/-0.0006, 0.0109+/-0.001],\n",
       " 'G1-phywe-cuivre-combo': [0.07587+/-5e-05, -0.00307+/-4e-05],\n",
       " 'G1-phywe-cuivre': [0.074726+/-3.1e-05, 0.000388+/-2.5e-05],\n",
       " 'G1-phywe-vide': [0.06899+/-8e-05, 0.000869+/-8e-06]}"
      ]
     },
     "execution_count": 3,
     "metadata": {},
     "output_type": "execute_result"
    }
   ],
   "source": [
    "fits = {}\n",
    "\n",
    "with open('fits.csv', 'r') as f:\n",
    "    lines = f.readlines()\n",
    "    for line in lines:\n",
    "        if line.startswith('G'):\n",
    "            name, a, b = line.replace('\\n', '').split(',')\n",
    "            fits[name] = [ufloat_fromstr(a), ufloat_fromstr(b)]\n",
    "\n",
    "fits"
   ]
  },
  {
   "cell_type": "code",
   "execution_count": 4,
   "metadata": {},
   "outputs": [
    {
     "name": "stdout",
     "output_type": "stream",
     "text": [
      "[0.06899+/-8e-05, 0.000869+/-8e-06]\n"
     ]
    }
   ],
   "source": [
    "print(fits.get('G1-phywe-vide'))"
   ]
  },
  {
   "cell_type": "markdown",
   "metadata": {},
   "source": [
    "# Calcul $\\mu_r$"
   ]
  },
  {
   "cell_type": "markdown",
   "metadata": {},
   "source": [
    "## PHYWE"
   ]
  },
  {
   "cell_type": "code",
   "execution_count": 21,
   "metadata": {},
   "outputs": [
    {
     "name": "stdout",
     "output_type": "stream",
     "text": [
      "G1-phywe-acdoux-combo: mu_r = 1.30 \\pm 0.07\n",
      "G1-phywe-acdoux: mu_r = 1.16 \\pm 0.04\n",
      "G1-phywe-alu-combo: mu_r = 1.09 \\pm 0.02\n",
      "G1-phywe-alu: mu_r = 1.08 \\pm 0.01\n",
      "G1-phywe-avec-bloc-horiz: mu_r = 0.64 \\pm 0.04\n",
      "G1-phywe-avec-bloc-penche: mu_r = 0.84 \\pm 0.06\n",
      "G1-phywe-avec-bloc: mu_r = 1.31 \\pm 0.09\n",
      "G1-phywe-cuivre-combo: mu_r = 1.10 \\pm 0.01\n",
      "G1-phywe-cuivre: mu_r = 1.08 \\pm 0.01\n",
      "G1-phywe-vide: mu_r = 1.0 \\pm 0\n"
     ]
    }
   ],
   "source": [
    "alph_phywe = fits.get('G1-phywe-vide')[0]\n",
    "\n",
    "def mu_r(fit):\n",
    "    return fit[0]/alph_phywe\n",
    "\n",
    "mu = {}\n",
    "\n",
    "for key, values in fits.items():\n",
    "    if \"G1-phywe\" in key:\n",
    "        temp_mu: un.UFloat = mu_r(values)\n",
    "        temp_mu += ufloat(0, temp_mu.std_dev * 10)\n",
    "        mu.update({key: temp_mu})\n",
    "        print(f\"{key}: mu_r = {temp_mu:.1uL}\")\n",
    "        "
   ]
  },
  {
   "cell_type": "markdown",
   "metadata": {},
   "source": [
    "## Cylindre"
   ]
  },
  {
   "cell_type": "code",
   "execution_count": 23,
   "metadata": {},
   "outputs": [
    {
     "name": "stdout",
     "output_type": "stream",
     "text": [
      "G1-cylindre-acier-argent-chrome: mu_r = \\(2.1 \\pm 0.1\\)\n",
      "G1-cylindre-acier-doux: mu_r = \\(2.48 \\pm 0.08\\)\n",
      "G1-cylindre-alu: mu_r = \\(0.995 \\pm 0.004\\)\n",
      "G1-cylindre-cuivre: mu_r = \\(0.98 \\pm 0.01\\)\n",
      "G1-cylindre-laiton: mu_r = \\(1.008 \\pm 0.004\\)\n",
      "G1-cylindre-monel400: mu_r = \\(1.098 \\pm 0.007\\)\n",
      "G1-cylindre-nickel200: mu_r = \\(1.11 \\pm 0.01\\)\n",
      "G1-cylindre-vide: mu_r = \\(1.0 \\pm 0\\)\n"
     ]
    }
   ],
   "source": [
    "alph_cyl = fits.get('G1-cylindre-vide')[0]\n",
    "\n",
    "def mu_r(fit):\n",
    "    return fit[0]/alph_cyl\n",
    "\n",
    "\n",
    "for key, values in fits.items():\n",
    "    if \"G1-cylindre\" in key:\n",
    "        temp_mu = mu_r(values)\n",
    "        temp_mu += ufloat(0, temp_mu.std_dev * 10)\n",
    "        mu.update({key: temp_mu})\n",
    "        print(f\"{key}: mu_r = \\\\({temp_mu:.1uL}\\\\)\")"
   ]
  },
  {
   "cell_type": "markdown",
   "metadata": {},
   "source": [
    "# Calibration des axes"
   ]
  },
  {
   "cell_type": "markdown",
   "metadata": {},
   "source": [
    "## PHYWE"
   ]
  },
  {
   "cell_type": "code",
   "execution_count": 7,
   "metadata": {},
   "outputs": [],
   "source": [
    "mu_0 = 4*np.pi*(10**(-7))\n",
    "\n",
    "N_phywe = 600 # l'autre 1200\n",
    "L_phywe = ufloat_fromstr(\"0.064 +/- 0.001\")\n",
    "\n",
    "\n",
    "def C1_phywe(mu_r):\n",
    "    return N_phywe/(mu_r * L_phywe)\n",
    "\n",
    "\n",
    "def C2_phywe(mu_r):\n",
    "    return mu_0 * N_phywe/( L_phywe*alph_phywe*mu_r )\n",
    "\n",
    "\n",
    "def H_phywe(Vx, mu_r):\n",
    "    return C1_phywe(mu_r) * Vx\n",
    "\n",
    "def B_phywe(Vy, mu_r):\n",
    "    return C2_phywe(mu_r) * Vy\n"
   ]
  },
  {
   "cell_type": "code",
   "execution_count": 8,
   "metadata": {},
   "outputs": [
    {
     "name": "stdout",
     "output_type": "stream",
     "text": [
      "C1 pour G1-phywe-avec-bloc: (7.15+/-0.12)e+03 et C2 pour G1-phywe-avec-bloc: 0.1303+/-0.0022\n"
     ]
    },
    {
     "data": {
      "image/png": "[encoded data removed]",
      "text/plain": [
       "<Figure size 400x300 with 1 Axes>"
      ]
     },
     "metadata": {},
     "output_type": "display_data"
    }
   ],
   "source": [
    "mater = \"G1-phywe-avec-bloc\"\n",
    "\n",
    "datas = pd.read_csv(f\"../data/{mater}.csv\", header=None)\n",
    "\n",
    "mu_data = mu.get(mater)\n",
    "\n",
    "\n",
    "H_datas = C1_phywe(mu_data).nominal_value*datas[0]/1000\n",
    "B_datas = C2_phywe(mu_data).nominal_value*datas[1]*1000\n",
    "\n",
    "print(f\"C1 pour {mater}: {C1_phywe(mu_data)} et C2 pour {mater}: {C2_phywe(mu_data)}\")\n",
    "plt.scatter(H_datas, B_datas, marker=\"s\", s=1)\n",
    "plt.grid()\n",
    "plt.xlabel(r\"$H$ [kA.m$^{-1}$]\")\n",
    "plt.ylabel(r\"$B$ [mT]\")\n",
    "plt.tight_layout()\n",
    "plt.savefig(f\"../figures/{mater}_chang.pdf\")"
   ]
  },
  {
   "cell_type": "code",
   "execution_count": null,
   "metadata": {},
   "outputs": [],
   "source": []
  },
  {
   "cell_type": "markdown",
   "metadata": {},
   "source": [
    "## Cylindre"
   ]
  },
  {
   "cell_type": "code",
   "execution_count": 8,
   "metadata": {},
   "outputs": [
    {
     "ename": "NameError",
     "evalue": "name 'ufloat_fromstr' is not defined",
     "output_type": "error",
     "traceback": [
      "\u001b[0;31m---------------------------------------------------------------------------\u001b[0m",
      "\u001b[0;31mNameError\u001b[0m                                 Traceback (most recent call last)",
      "\u001b[1;32m/home/martingodet/Desktop/epflBA3/labo_2a/TPII-rapports/04-G1-cycle-hysterese-magnetique/analyse/exp4.ipynb Cell 15\u001b[0m line \u001b[0;36m2\n\u001b[1;32m      <a href='vscode-notebook-cell:/home/martingodet/Desktop/epflBA3/labo_2a/TPII-rapports/04-G1-cycle-hysterese-magnetique/analyse/exp4.ipynb#X20sZmlsZQ%3D%3D?line=0'>1</a>\u001b[0m N_cyl \u001b[39m=\u001b[39m \u001b[39m405\u001b[39m\n\u001b[0;32m----> <a href='vscode-notebook-cell:/home/martingodet/Desktop/epflBA3/labo_2a/TPII-rapports/04-G1-cycle-hysterese-magnetique/analyse/exp4.ipynb#X20sZmlsZQ%3D%3D?line=1'>2</a>\u001b[0m L_cyl \u001b[39m=\u001b[39m ufloat_fromstr(\u001b[39m\"\u001b[39m\u001b[39m0.111 +/- 0.001\u001b[39m\u001b[39m\"\u001b[39m)\n\u001b[1;32m      <a href='vscode-notebook-cell:/home/martingodet/Desktop/epflBA3/labo_2a/TPII-rapports/04-G1-cycle-hysterese-magnetique/analyse/exp4.ipynb#X20sZmlsZQ%3D%3D?line=4'>5</a>\u001b[0m \u001b[39mdef\u001b[39;00m \u001b[39mC1_cylindre\u001b[39m(mu_r):\n\u001b[1;32m      <a href='vscode-notebook-cell:/home/martingodet/Desktop/epflBA3/labo_2a/TPII-rapports/04-G1-cycle-hysterese-magnetique/analyse/exp4.ipynb#X20sZmlsZQ%3D%3D?line=5'>6</a>\u001b[0m     \u001b[39mreturn\u001b[39;00m N_cyl\u001b[39m/\u001b[39m(mu_r \u001b[39m*\u001b[39m L_cyl)\n",
      "\u001b[0;31mNameError\u001b[0m: name 'ufloat_fromstr' is not defined"
     ]
    }
   ],
   "source": [
    "N_cyl = 405\n",
    "L_cyl = ufloat_fromstr(\"0.111 +/- 0.001\")\n",
    "\n",
    "\n",
    "def C1_cylindre(mu_r):\n",
    "    return N_cyl/(mu_r * L_cyl)\n",
    "\n",
    "\n",
    "def C2_cylindre(mu_r):\n",
    "    return mu_0 * N_cyl/( L_cyl*alph_cyl*mu_r )\n",
    "\n",
    "\n",
    "def H_cyl(Vx, mu_r):\n",
    "    return C1_cylindre(mu_r) * Vx\n",
    "\n",
    "def B_cyl(Vy, mu_r):\n",
    "    return C2_cylindre(mu_r) * Vy"
   ]
  },
  {
   "cell_type": "code",
   "execution_count": 9,
   "metadata": {},
   "outputs": [
    {
     "name": "stdout",
     "output_type": "stream",
     "text": [
      "C1 pour G1-cylindre-nickel200: 2438+/-33 et C2 pour G1-cylindre-nickel200: 0.1602+/-0.0021\n"
     ]
    },
    {
     "data": {
      "image/png": "[encoded data removed]",
      "text/plain": [
       "<Figure size 400x300 with 1 Axes>"
      ]
     },
     "metadata": {},
     "output_type": "display_data"
    }
   ],
   "source": [
    "mater = \"G1-cylindre-nickel200\"\n",
    "\n",
    "datas = pd.read_csv(f\"../data/{mater}.csv\", header=None)\n",
    "\n",
    "mu_data = mu.get(mater)\n",
    "\n",
    "print(f\"C1 pour {mater}: {C1_cylindre(mu_data)} et C2 pour {mater}: {C2_cylindre(mu_data)}\")\n",
    "plt.scatter(C1_cylindre(mu_data).nominal_value*datas[0]/1000, C2_cylindre(mu_data).nominal_value*datas[1]*1000, marker=\"s\", s=1)\n",
    "plt.grid()\n",
    "plt.xlabel(r\"$H$ [kA.m$^{-1}$]\")\n",
    "plt.ylabel(r\"$B$ [mT]\")\n",
    "plt.tight_layout()\n",
    "plt.savefig(f\"../figures/{mater}_chang.pdf\")"
   ]
  },
  {
   "cell_type": "code",
   "execution_count": null,
   "metadata": {},
   "outputs": [],
   "source": []
  }
 ],
 "metadata": {
  "kernelspec": {
   "display_name": ".venv",
   "language": "python",
   "name": "python3"
  },
  "language_info": {
   "codemirror_mode": {
    "name": "ipython",
    "version": 3
   },
   "file_extension": ".py",
   "mimetype": "text/x-python",
   "name": "python",
   "nbconvert_exporter": "python",
   "pygments_lexer": "ipython3",
   "version": "3.11.6"
  }
 },
 "nbformat": 4,
 "nbformat_minor": 2
}
