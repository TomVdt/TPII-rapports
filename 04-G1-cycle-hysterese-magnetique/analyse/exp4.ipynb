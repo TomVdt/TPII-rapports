{
 "cells": [
  {
   "cell_type": "markdown",
   "metadata": {},
   "source": [
    "# Valeurs des machins"
   ]
  },
  {
   "cell_type": "code",
   "execution_count": 1,
   "metadata": {},
   "outputs": [],
   "source": [
    "import numpy as np\n",
    "import pandas as pd\n",
    "import matplotlib as mpl\n",
    "import matplotlib.pyplot as plt\n",
    "from uncertainties import unumpy as unp\n",
    "from uncertainties import ufloat, umath, ufloat_fromstr\n",
    "from options import *\n",
    "from pathlib import Path\n",
    "\n",
    "mpl.rcParams.update(rcParams)"
   ]
  },
  {
   "cell_type": "markdown",
   "metadata": {},
   "source": [
    "just in case:\n",
    "\n",
    "{'G1-phywe-cuivre-combo': [0.07592+/-5e-05, -0.00304+/-5e-05],\n",
    " 'G1-phywe-acdoux': [0.09236+/-0.00018, 0.441+/-0.0006],\n",
    " 'G1-phywe-acdoux-combo': [0.0893+/-0.0006, 0.8545+/-0.0018],\n",
    " 'G1-phywe-alu-combo': [0.07529+/-6e-05, 0.00083+/-4e-05],\n",
    " 'G1-cylindre-monel400': [0.021015+/-2.3e-05, -0.08735+/-0.00013],\n",
    " 'G1-phywe-vide': [0.06899+/-8e-05, 0.000869+/-8e-06],\n",
    " 'G1-cylindre-acier-argent-chrome': [0.0399+/-0.0005, 0.3765+/-0.0027],\n",
    " 'G1-cylindre-acier-doux': [0.04431+/-0.0001, 0.4465+/-0.0007],\n",
    " 'G1-cylindre-vide': [0.01913+/-6e-06, 9.2e-05+/-7e-06],\n",
    " 'G1-cylindre-nickel200': [0.02123+/-4e-05, 0.02614+/-0.00019],\n",
    " 'G1-cylindre-alu': [0.019027+/-5e-06, 0.000694+/-1e-05],\n",
    " 'G1-cylindre-laiton': [0.019291+/-5e-06, -0.00084+/-7e-06],\n",
    " 'G1-phywe-avec-bloc': [0.0731+/-0.001, -1.3853+/-0.0019],\n",
    " 'G1-cylindre-cuivre': [0.018744+/-2.5e-05, 0.002112+/-3.2e-05],\n",
    " 'G1-phywe-alu': [0.07436+/-5e-05, 0.00336+/-4e-05],\n",
    " 'G1-phywe-cuivre': [0.074726+/-3.1e-05, 0.000388+/-2.5e-05]}"
   ]
  },
  {
   "cell_type": "code",
   "execution_count": 3,
   "metadata": {},
   "outputs": [
    {
     "data": {
      "text/plain": [
       "{'G1-phywe-vide': [0.06945+/-4e-05, 0.000964+/-4e-06]}"
      ]
     },
     "execution_count": 3,
     "metadata": {},
     "output_type": "execute_result"
    }
   ],
   "source": [
    "fits = {}\n",
    "\n",
    "with open('fits.csv', 'r') as f:\n",
    "    lines = f.readlines()\n",
    "    for line in lines:\n",
    "        if line.startswith('G'):\n",
    "            name, a, b = line.replace('\\n', '').split(',')\n",
    "            fits[name] = [ufloat_fromstr(a), ufloat_fromstr(b)]\n",
    "\n",
    "fits"
   ]
  },
  {
   "cell_type": "code",
   "execution_count": 6,
   "metadata": {},
   "outputs": [
    {
     "name": "stdout",
     "output_type": "stream",
     "text": [
      "<class 'uncertainties.core.Variable'>\n"
     ]
    }
   ],
   "source": [
    "print(fits.get('G1-phywe-vide')[0])\n",
    "\n",
    "# G1-cylindre-vide\n",
    "\n",
    "\n",
    "def changement_phywe():\n",
    "    pass"
   ]
  },
  {
   "cell_type": "code",
   "execution_count": null,
   "metadata": {},
   "outputs": [],
   "source": []
  }
 ],
 "metadata": {
  "kernelspec": {
   "display_name": ".venv",
   "language": "python",
   "name": "python3"
  },
  "language_info": {
   "codemirror_mode": {
    "name": "ipython",
    "version": 3
   },
   "file_extension": ".py",
   "mimetype": "text/x-python",
   "name": "python",
   "nbconvert_exporter": "python",
   "pygments_lexer": "ipython3",
   "version": "3.11.6"
  }
 },
 "nbformat": 4,
 "nbformat_minor": 2
}
