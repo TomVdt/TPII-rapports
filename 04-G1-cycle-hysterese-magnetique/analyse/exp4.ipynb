{
 "cells": [
  {
   "cell_type": "markdown",
   "metadata": {},
   "source": [
    "# Valeurs des machins"
   ]
  },
  {
   "cell_type": "code",
   "execution_count": 8,
   "metadata": {},
   "outputs": [],
   "source": [
    "import numpy as np\n",
    "import pandas as pd\n",
    "import matplotlib as mpl\n",
    "import matplotlib.pyplot as plt\n",
    "from uncertainties import unumpy as unp\n",
    "from uncertainties import ufloat, umath, ufloat_fromstr\n",
    "from options import *\n",
    "from pathlib import Path\n",
    "\n",
    "mpl.rcParams.update(rcParams)"
   ]
  },
  {
   "cell_type": "code",
   "execution_count": 9,
   "metadata": {},
   "outputs": [
    {
     "data": {
      "text/plain": [
       "{'G1-anneau': [0.00867+/-0.00024, -0.2342+/-0.0017],\n",
       " 'G1-cylindre-acier-argent-chrome': [0.03972+/-0.00021, -0.023+/-0.0012],\n",
       " 'G1-cylindre-acier-doux': [0.0474+/-0.00015, 0.0192+/-0.0008],\n",
       " 'G1-cylindre-alu': [0.019027+/-5e-06, 0.000694+/-1e-05],\n",
       " 'G1-cylindre-cuivre': [0.018744+/-2.5e-05, 0.002112+/-3.2e-05],\n",
       " 'G1-cylindre-laiton': [0.019291+/-5e-06, -0.00084+/-7e-06],\n",
       " 'G1-cylindre-monel400': [0.020996+/-1.2e-05, -0.026+/-7e-05],\n",
       " 'G1-cylindre-nickel200': [0.021185+/-2.4e-05, -0.02978+/-0.00013],\n",
       " 'G1-cylindre-vide': [0.01913+/-6e-06, 9.2e-05+/-7e-06],\n",
       " 'G1-phywe-acdoux-combo': [0.0896+/-0.0005, 0.0169+/-0.0015],\n",
       " 'G1-phywe-acdoux': [0.0798+/-0.00027, 0.0524+/-0.0011],\n",
       " 'G1-phywe-alu-combo': [0.07529+/-6e-05, 0.00083+/-4e-05],\n",
       " 'G1-phywe-alu': [0.07436+/-5e-05, 0.00336+/-4e-05],\n",
       " 'G1-phywe-avec-bloc-horiz': [0.04399+/-0.00028, -0.0419+/-0.0009],\n",
       " 'G1-phywe-avec-bloc-penche': [0.0579+/-0.0004, -0.0113+/-0.0014],\n",
       " 'G1-phywe-avec-bloc': [0.0904+/-0.0006, 0.0109+/-0.001],\n",
       " 'G1-phywe-cuivre-combo': [0.07587+/-5e-05, -0.00307+/-4e-05],\n",
       " 'G1-phywe-cuivre': [0.074726+/-3.1e-05, 0.000388+/-2.5e-05],\n",
       " 'G1-phywe-vide': [0.06899+/-8e-05, 0.000869+/-8e-06]}"
      ]
     },
     "execution_count": 9,
     "metadata": {},
     "output_type": "execute_result"
    }
   ],
   "source": [
    "fits = {}\n",
    "\n",
    "with open('fits.csv', 'r') as f:\n",
    "    lines = f.readlines()\n",
    "    for line in lines:\n",
    "        if line.startswith('G'):\n",
    "            name, a, b = line.replace('\\n', '').split(',')\n",
    "            fits[name] = [ufloat_fromstr(a), ufloat_fromstr(b)]\n",
    "\n",
    "fits"
   ]
  },
  {
   "cell_type": "code",
   "execution_count": 10,
   "metadata": {},
   "outputs": [
    {
     "name": "stdout",
     "output_type": "stream",
     "text": [
      "[0.06899+/-8e-05, 0.000869+/-8e-06]\n"
     ]
    }
   ],
   "source": [
    "print(fits.get('G1-phywe-vide'))"
   ]
  },
  {
   "cell_type": "markdown",
   "metadata": {},
   "source": [
    "# Calcul $\\mu_r$"
   ]
  },
  {
   "cell_type": "markdown",
   "metadata": {},
   "source": [
    "## PHYWE"
   ]
  },
  {
   "cell_type": "code",
   "execution_count": 11,
   "metadata": {},
   "outputs": [
    {
     "name": "stdout",
     "output_type": "stream",
     "text": [
      "G1-phywe-acdoux-combo: mu_r = 1.299+/-0.007\n",
      "G1-phywe-acdoux: mu_r = 1.157+/-0.004\n",
      "G1-phywe-alu-combo: mu_r = 1.0913+/-0.0015\n",
      "G1-phywe-alu: mu_r = 1.0778+/-0.0014\n",
      "G1-phywe-avec-bloc-horiz: mu_r = 0.638+/-0.004\n",
      "G1-phywe-avec-bloc-penche: mu_r = 0.839+/-0.006\n",
      "G1-phywe-avec-bloc: mu_r = 1.310+/-0.009\n",
      "G1-phywe-cuivre-combo: mu_r = 1.0997+/-0.0015\n",
      "G1-phywe-cuivre: mu_r = 1.0831+/-0.0013\n",
      "G1-phywe-vide: mu_r = 1.0+/-0\n"
     ]
    }
   ],
   "source": [
    "alph_phywe = fits.get('G1-phywe-vide')[0]\n",
    "\n",
    "def mu_r(fit):\n",
    "    return fit[0]/alph_phywe\n",
    "\n",
    "mu = {}\n",
    "\n",
    "for key, values in fits.items():\n",
    "    if \"G1-phywe\" in key:\n",
    "        temp_mu = mu_r(values)\n",
    "        mu.update({key: temp_mu})\n",
    "        print(f\"{key}: mu_r = {temp_mu}\")\n",
    "        "
   ]
  },
  {
   "cell_type": "markdown",
   "metadata": {},
   "source": [
    "## Cylindre"
   ]
  },
  {
   "cell_type": "code",
   "execution_count": 12,
   "metadata": {},
   "outputs": [
    {
     "name": "stdout",
     "output_type": "stream",
     "text": [
      "G1-cylindre-acier-argent-chrome: mu_r = 2.076+/-0.011\n",
      "G1-cylindre-acier-doux: mu_r = 2.478+/-0.008\n",
      "G1-cylindre-alu: mu_r = 0.9946+/-0.0004\n",
      "G1-cylindre-cuivre: mu_r = 0.9798+/-0.0013\n",
      "G1-cylindre-laiton: mu_r = 1.0084+/-0.0004\n",
      "G1-cylindre-monel400: mu_r = 1.0975+/-0.0007\n",
      "G1-cylindre-nickel200: mu_r = 1.1074+/-0.0013\n",
      "G1-cylindre-vide: mu_r = 1.0+/-0\n"
     ]
    }
   ],
   "source": [
    "alph_cyl = fits.get('G1-cylindre-vide')[0]\n",
    "\n",
    "def mu_r(fit):\n",
    "    return fit[0]/alph_cyl\n",
    "\n",
    "\n",
    "for key, values in fits.items():\n",
    "    if \"G1-cylindre\" in key:\n",
    "        temp_mu = mu_r(values)\n",
    "        mu.update({key: temp_mu})\n",
    "        print(f\"{key}: mu_r = {temp_mu}\")"
   ]
  },
  {
   "cell_type": "markdown",
   "metadata": {},
   "source": [
    "# Calibration des axes"
   ]
  },
  {
   "cell_type": "markdown",
   "metadata": {},
   "source": [
    "## PHYWE"
   ]
  },
  {
   "cell_type": "code",
   "execution_count": 47,
   "metadata": {},
   "outputs": [],
   "source": [
    "mu_0 = 4*np.pi*(10**(-7))\n",
    "\n",
    "\n",
    "\n",
    "\n",
    "def changement_phywe():\n",
    "    pass"
   ]
  },
  {
   "cell_type": "markdown",
   "metadata": {},
   "source": [
    "## Cylindre"
   ]
  },
  {
   "cell_type": "code",
   "execution_count": 48,
   "metadata": {},
   "outputs": [],
   "source": [
    "N_cyl = 405\n",
    "L_cyl = ufloat_fromstr(\"0.15 +/- 0.002\")\n",
    "\n",
    "\n",
    "def C1_cylindre(mu_r):\n",
    "    return N_cyl/(mu_r * L_cyl)\n",
    "\n",
    "\n",
    "def C2_cylindre(mu_r):\n",
    "    return mu_0 * N_cyl/( L_cyl*alph_cyl*mu_r )\n",
    "\n",
    "\n",
    "def H_cyl(Vx, mu_r):\n",
    "    return C1_cylindre(mu_r) * Vx\n",
    "\n",
    "def B_cyl(Vy, mu_r):\n",
    "    return C2_cylindre(mu_r) * Vy"
   ]
  },
  {
   "cell_type": "code",
   "execution_count": 58,
   "metadata": {},
   "outputs": [
    {
     "name": "stdout",
     "output_type": "stream",
     "text": [
      "1300+/-19 0.0854+/-0.0012\n"
     ]
    },
    {
     "data": {
      "image/png": "[encoded data removed]",
      "text/plain": [
       "<Figure size 400x300 with 1 Axes>"
      ]
     },
     "metadata": {},
     "output_type": "display_data"
    }
   ],
   "source": [
    "cyl_nickel = pd.read_csv(\"../data/G1-cylindre-acier-argent-chrome.csv\", header=None)\n",
    "\n",
    "mu_nickel = mu.get(\"G1-cylindre-acier-argent-chrome\")\n",
    "\n",
    "print(C1_cylindre(mu_nickel), C2_cylindre(mu_nickel))\n",
    "plt.scatter(C1_cylindre(mu_nickel).nominal_value*cyl_nickel[0], C2_cylindre(mu_nickel).nominal_value*cyl_nickel[1], marker=\"s\", s=1)\n",
    "plt.grid()\n",
    "plt.xlabel(r\"$H$ [A.m$^{-1}$]\")\n",
    "plt.ylabel(r\"$B$ [T]\")\n",
    "plt.tight_layout()\n",
    "plt.savefig(\"../figures/acier-argent-chrome_chang.pdf\")"
   ]
  },
  {
   "cell_type": "code",
   "execution_count": null,
   "metadata": {},
   "outputs": [],
   "source": []
  }
 ],
 "metadata": {
  "kernelspec": {
   "display_name": ".venv",
   "language": "python",
   "name": "python3"
  },
  "language_info": {
   "codemirror_mode": {
    "name": "ipython",
    "version": 3
   },
   "file_extension": ".py",
   "mimetype": "text/x-python",
   "name": "python",
   "nbconvert_exporter": "python",
   "pygments_lexer": "ipython3",
   "version": "3.11.6"
  }
 },
 "nbformat": 4,
 "nbformat_minor": 2
}
