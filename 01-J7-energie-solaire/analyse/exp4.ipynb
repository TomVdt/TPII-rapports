{
 "cells": [
  {
   "cell_type": "markdown",
   "metadata": {},
   "source": [
    "# Analyse des données d'expérience\n",
    "\n",
    "Expérience: J7 Energie Solaire\n",
    "\n",
    "Date: 2023-09-30"
   ]
  },
  {
   "cell_type": "code",
   "execution_count": 2,
   "metadata": {},
   "outputs": [],
   "source": [
    "import numpy as np\n",
    "import scipy as sp\n",
    "import pandas as pd\n",
    "import matplotlib.pyplot as plt"
   ]
  },
  {
   "cell_type": "code",
   "execution_count": 3,
   "metadata": {},
   "outputs": [],
   "source": [
    "# Save figs for latex\n",
    "import matplotlib as mpl\n",
    "import tikzplotlib as tikz\n",
    "from options import *\n",
    "\n",
    "# print(mpl.rcParams.keys())"
   ]
  },
  {
   "cell_type": "markdown",
   "metadata": {},
   "source": [
    "## Expérience 4: Reaction à des longueurs d'onde spécifiques"
   ]
  },
  {
   "cell_type": "markdown",
   "metadata": {},
   "source": [
    "### Puissance lumineuse"
   ]
  },
  {
   "cell_type": "code",
   "execution_count": 4,
   "metadata": {},
   "outputs": [
    {
     "name": "stderr",
     "output_type": "stream",
     "text": [
      "/tmp/ipykernel_6049/2359517054.py:1: ParserWarning: Falling back to the 'python' engine because the 'c' engine does not support regex separators (separators > 1 char and different from '\\s+' are interpreted as regex); you can avoid this warning by specifying engine='python'.\n",
      "  pgamma = pd.read_csv(\"../data/Pgamma(filtre),d=42cm.csv\", delimiter=\", \", header=0)\n"
     ]
    },
    {
     "data": {
      "text/html": [
       "<div>\n",
       "<style scoped>\n",
       "    .dataframe tbody tr th:only-of-type {\n",
       "        vertical-align: middle;\n",
       "    }\n",
       "\n",
       "    .dataframe tbody tr th {\n",
       "        vertical-align: top;\n",
       "    }\n",
       "\n",
       "    .dataframe thead th {\n",
       "        text-align: right;\n",
       "    }\n",
       "</style>\n",
       "<table border=\"1\" class=\"dataframe\">\n",
       "  <thead>\n",
       "    <tr style=\"text-align: right;\">\n",
       "      <th></th>\n",
       "      <th>Filtre</th>\n",
       "      <th>Pgamma [W/m^2]</th>\n",
       "    </tr>\n",
       "  </thead>\n",
       "  <tbody>\n",
       "    <tr>\n",
       "      <th>0</th>\n",
       "      <td>Aucun</td>\n",
       "      <td>136.1</td>\n",
       "    </tr>\n",
       "    <tr>\n",
       "      <th>1</th>\n",
       "      <td>2B</td>\n",
       "      <td>111.7</td>\n",
       "    </tr>\n",
       "    <tr>\n",
       "      <th>2</th>\n",
       "      <td>8</td>\n",
       "      <td>111.0</td>\n",
       "    </tr>\n",
       "    <tr>\n",
       "      <th>3</th>\n",
       "      <td>16</td>\n",
       "      <td>108.4</td>\n",
       "    </tr>\n",
       "    <tr>\n",
       "      <th>4</th>\n",
       "      <td>25</td>\n",
       "      <td>91.2</td>\n",
       "    </tr>\n",
       "    <tr>\n",
       "      <th>5</th>\n",
       "      <td>87C</td>\n",
       "      <td>64.8</td>\n",
       "    </tr>\n",
       "    <tr>\n",
       "      <th>6</th>\n",
       "      <td>47</td>\n",
       "      <td>71.5</td>\n",
       "    </tr>\n",
       "    <tr>\n",
       "      <th>7</th>\n",
       "      <td>58</td>\n",
       "      <td>79.0</td>\n",
       "    </tr>\n",
       "  </tbody>\n",
       "</table>\n",
       "</div>"
      ],
      "text/plain": [
       "  Filtre  Pgamma [W/m^2]\n",
       "0  Aucun           136.1\n",
       "1     2B           111.7\n",
       "2      8           111.0\n",
       "3     16           108.4\n",
       "4     25            91.2\n",
       "5    87C            64.8\n",
       "6     47            71.5\n",
       "7     58            79.0"
      ]
     },
     "execution_count": 4,
     "metadata": {},
     "output_type": "execute_result"
    }
   ],
   "source": [
    "pgamma = pd.read_csv(\"../data/Pgamma(filtre),d=42cm.csv\", delimiter=\", \", header=0)\n",
    "pgamma"
   ]
  },
  {
   "cell_type": "code",
   "execution_count": 6,
   "metadata": {},
   "outputs": [
    {
     "data": {
      "image/png": "[encoded data removed]",
      "text/plain": [
       "<Figure size 640x480 with 1 Axes>"
      ]
     },
     "metadata": {},
     "output_type": "display_data"
    }
   ],
   "source": [
    "plt.bar(pgamma[\"Filtre\"], pgamma[\"Pgamma [W/m^2]\"] , width=barwidth)\n",
    "plt.xlabel(\"Filtre\")\n",
    "plt.ylabel(\"$P_{\\gamma}$ [$W$]\")\n",
    "tikz.save(\"../plots/Pgamma(filtre).tikz\")"
   ]
  },
  {
   "cell_type": "markdown",
   "metadata": {},
   "source": [
    "### Amorphe"
   ]
  },
  {
   "cell_type": "code",
   "execution_count": 7,
   "metadata": {},
   "outputs": [
    {
     "name": "stderr",
     "output_type": "stream",
     "text": [
      "/tmp/ipykernel_6049/2946029389.py:2: ParserWarning: Falling back to the 'python' engine because the 'c' engine does not support regex separators (separators > 1 char and different from '\\s+' are interpreted as regex); you can avoid this warning by specifying engine='python'.\n",
      "  igamma = pd.read_csv(\"../data/Igamma(filtre),amorphe,d=42cm.csv\", delimiter=\", \")\n"
     ]
    },
    {
     "data": {
      "image/png": "[encoded data removed]",
      "text/plain": [
       "<Figure size 640x480 with 1 Axes>"
      ]
     },
     "metadata": {},
     "output_type": "display_data"
    }
   ],
   "source": [
    "# i = Igamma / Pgamma\n",
    "igamma = pd.read_csv(\"../data/Igamma(filtre),amorphe,d=42cm.csv\", delimiter=\", \")\n",
    "\n",
    "# Fit data linearly\n",
    "i = igamma[\"Igamma [mA]\"] / pgamma[\"Pgamma [W/m^2]\"] * 100\n",
    "x = np.arange(len(pgamma[\"Filtre\"]))\n",
    "\n",
    "plt.bar(x, i, capsize=10, width=barwidth, color=colors[\"A\"], label=\"A\")\n",
    "plt.legend()\n",
    "plt.xticks(x, pgamma[\"Filtre\"])\n",
    "plt.xlabel(\"Filtre\")\n",
    "plt.ylabel(\"i [mA/W]\")\n",
    "tikz.save(\"../plots/Igamma(filtre),A.tikz\")"
   ]
  },
  {
   "cell_type": "markdown",
   "metadata": {},
   "source": [
    "### Monocristallin"
   ]
  },
  {
   "cell_type": "markdown",
   "metadata": {},
   "source": [
    "### Polycristallin"
   ]
  },
  {
   "cell_type": "code",
   "execution_count": 9,
   "metadata": {},
   "outputs": [
    {
     "name": "stderr",
     "output_type": "stream",
     "text": [
      "/tmp/ipykernel_6049/3981887666.py:3: ParserWarning: Falling back to the 'python' engine because the 'c' engine does not support regex separators (separators > 1 char and different from '\\s+' are interpreted as regex); you can avoid this warning by specifying engine='python'.\n",
      "  igamma = pd.read_csv(\"../data/Igamma(filtre),monocristallin,d=42cm.csv\", delimiter=\", \")\n",
      "/tmp/ipykernel_6049/3981887666.py:11: ParserWarning: Falling back to the 'python' engine because the 'c' engine does not support regex separators (separators > 1 char and different from '\\s+' are interpreted as regex); you can avoid this warning by specifying engine='python'.\n",
      "  igamma = pd.read_csv(\"../data/Igamma(filtre),polycristallin,d=42cm.csv\", delimiter=\", \")\n"
     ]
    },
    {
     "data": {
      "image/png": "[encoded data removed]",
      "text/plain": [
       "<Figure size 640x480 with 1 Axes>"
      ]
     },
     "metadata": {},
     "output_type": "display_data"
    }
   ],
   "source": [
    "x = np.arange(len(igamma[\"Filtre\"]))\n",
    "\n",
    "igamma = pd.read_csv(\"../data/Igamma(filtre),monocristallin,d=42cm.csv\", delimiter=\", \")\n",
    "\n",
    "# i = Igamma / Pgamma\n",
    "i = igamma[\"Igamma [mA]\"] / pgamma[\"Pgamma [W/m^2]\"] * 100\n",
    "\n",
    "plt.bar(x, i, capsize=10, width=barwidth, color=colors[\"M\"], label=\"M\")\n",
    "\n",
    "# i = Igamma / Pgamma\n",
    "igamma = pd.read_csv(\"../data/Igamma(filtre),polycristallin,d=42cm.csv\", delimiter=\", \")\n",
    "i = igamma[\"Igamma [mA]\"] / pgamma[\"Pgamma [W/m^2]\"] * 100\n",
    "\n",
    "plt.bar(x + barwidth, i, capsize=10, width=barwidth, color=colors[\"P\"], label=\"P\")\n",
    "\n",
    "plt.legend()\n",
    "plt.xticks(x + barwidth/2, igamma[\"Filtre\"])\n",
    "plt.xlabel(\"Filtre\")\n",
    "plt.ylabel(\"i [mA/W]\")\n",
    "tikz.save(\"../plots/Igamma(filtre),MP.tikz\")"
   ]
  },
  {
   "cell_type": "code",
   "execution_count": null,
   "metadata": {},
   "outputs": [],
   "source": []
  }
 ],
 "metadata": {
  "kernelspec": {
   "display_name": "Python 3",
   "language": "python",
   "name": "python3"
  },
  "language_info": {
   "codemirror_mode": {
    "name": "ipython",
    "version": 3
   },
   "file_extension": ".py",
   "mimetype": "text/x-python",
   "name": "python",
   "nbconvert_exporter": "python",
   "pygments_lexer": "ipython3",
   "version": "3.11.5"
  },
  "orig_nbformat": 4
 },
 "nbformat": 4,
 "nbformat_minor": 2
}
