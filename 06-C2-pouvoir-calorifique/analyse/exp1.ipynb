{
 "cells": [
  {
   "cell_type": "markdown",
   "metadata": {},
   "source": [
    "# Pouvoir calorifique"
   ]
  },
  {
   "cell_type": "code",
   "execution_count": 1,
   "metadata": {},
   "outputs": [],
   "source": [
    "import numpy as np\n",
    "import pandas as pd\n",
    "import matplotlib as mpl\n",
    "import matplotlib.pyplot as plt\n",
    "from uncertainties import unumpy as unp\n",
    "from uncertainties import ufloat, umath\n",
    "from options import *\n",
    "from constants import *\n",
    "\n",
    "mpl.rcParams.update(rcParams)"
   ]
  },
  {
   "cell_type": "code",
   "execution_count": 2,
   "metadata": {},
   "outputs": [],
   "source": [
    "def load(filename: str):\n",
    "    return pd.read_csv(filename)"
   ]
  },
  {
   "cell_type": "markdown",
   "metadata": {},
   "source": [
    "## Theorique"
   ]
  },
  {
   "cell_type": "code",
   "execution_count": 3,
   "metadata": {},
   "outputs": [],
   "source": [
    "H_theo = 24.69 # MJ"
   ]
  },
  {
   "cell_type": "markdown",
   "metadata": {},
   "source": [
    "## Mesuré"
   ]
  },
  {
   "cell_type": "code",
   "execution_count": 4,
   "metadata": {},
   "outputs": [
    {
     "data": {
      "text/html": [
       "<div>\n",
       "<style scoped>\n",
       "    .dataframe tbody tr th:only-of-type {\n",
       "        vertical-align: middle;\n",
       "    }\n",
       "\n",
       "    .dataframe tbody tr th {\n",
       "        vertical-align: top;\n",
       "    }\n",
       "\n",
       "    .dataframe thead th {\n",
       "        text-align: right;\n",
       "    }\n",
       "</style>\n",
       "<table border=\"1\" class=\"dataframe\">\n",
       "  <thead>\n",
       "    <tr style=\"text-align: right;\">\n",
       "      <th></th>\n",
       "      <th>M0 [g]</th>\n",
       "      <th>M1 [g]</th>\n",
       "      <th>m0 [g]</th>\n",
       "      <th>m1 [g]</th>\n",
       "      <th>Mc [g]</th>\n",
       "      <th>T0 [degC]</th>\n",
       "      <th>T1 [degC]</th>\n",
       "    </tr>\n",
       "  </thead>\n",
       "  <tbody>\n",
       "    <tr>\n",
       "      <th>0</th>\n",
       "      <td>0</td>\n",
       "      <td>902.0</td>\n",
       "      <td>0.00</td>\n",
       "      <td>1.12</td>\n",
       "      <td>0.3</td>\n",
       "      <td>18.0</td>\n",
       "      <td>25.8</td>\n",
       "    </tr>\n",
       "    <tr>\n",
       "      <th>1</th>\n",
       "      <td>0</td>\n",
       "      <td>903.0</td>\n",
       "      <td>2.34</td>\n",
       "      <td>3.65</td>\n",
       "      <td>0.3</td>\n",
       "      <td>18.0</td>\n",
       "      <td>25.8</td>\n",
       "    </tr>\n",
       "    <tr>\n",
       "      <th>2</th>\n",
       "      <td>0</td>\n",
       "      <td>1065.0</td>\n",
       "      <td>4.69</td>\n",
       "      <td>6.18</td>\n",
       "      <td>0.3</td>\n",
       "      <td>18.0</td>\n",
       "      <td>25.8</td>\n",
       "    </tr>\n",
       "    <tr>\n",
       "      <th>3</th>\n",
       "      <td>0</td>\n",
       "      <td>1020.0</td>\n",
       "      <td>7.03</td>\n",
       "      <td>8.82</td>\n",
       "      <td>0.3</td>\n",
       "      <td>18.0</td>\n",
       "      <td>25.8</td>\n",
       "    </tr>\n",
       "    <tr>\n",
       "      <th>4</th>\n",
       "      <td>0</td>\n",
       "      <td>989.0</td>\n",
       "      <td>0.48</td>\n",
       "      <td>2.22</td>\n",
       "      <td>0.3</td>\n",
       "      <td>18.0</td>\n",
       "      <td>27.8</td>\n",
       "    </tr>\n",
       "    <tr>\n",
       "      <th>5</th>\n",
       "      <td>0</td>\n",
       "      <td>813.0</td>\n",
       "      <td>3.38</td>\n",
       "      <td>4.86</td>\n",
       "      <td>0.3</td>\n",
       "      <td>18.0</td>\n",
       "      <td>28.1</td>\n",
       "    </tr>\n",
       "    <tr>\n",
       "      <th>6</th>\n",
       "      <td>0</td>\n",
       "      <td>1240.0</td>\n",
       "      <td>5.74</td>\n",
       "      <td>7.76</td>\n",
       "      <td>0.3</td>\n",
       "      <td>18.0</td>\n",
       "      <td>28.1</td>\n",
       "    </tr>\n",
       "    <tr>\n",
       "      <th>7</th>\n",
       "      <td>0</td>\n",
       "      <td>960.0</td>\n",
       "      <td>0.99</td>\n",
       "      <td>2.64</td>\n",
       "      <td>0.3</td>\n",
       "      <td>18.0</td>\n",
       "      <td>28.3</td>\n",
       "    </tr>\n",
       "    <tr>\n",
       "      <th>8</th>\n",
       "      <td>0</td>\n",
       "      <td>941.0</td>\n",
       "      <td>3.39</td>\n",
       "      <td>4.97</td>\n",
       "      <td>0.3</td>\n",
       "      <td>18.0</td>\n",
       "      <td>27.8</td>\n",
       "    </tr>\n",
       "    <tr>\n",
       "      <th>9</th>\n",
       "      <td>0</td>\n",
       "      <td>876.0</td>\n",
       "      <td>0.09</td>\n",
       "      <td>1.41</td>\n",
       "      <td>0.3</td>\n",
       "      <td>17.6</td>\n",
       "      <td>27.8</td>\n",
       "    </tr>\n",
       "    <tr>\n",
       "      <th>10</th>\n",
       "      <td>0</td>\n",
       "      <td>909.0</td>\n",
       "      <td>2.14</td>\n",
       "      <td>3.66</td>\n",
       "      <td>0.3</td>\n",
       "      <td>17.6</td>\n",
       "      <td>27.4</td>\n",
       "    </tr>\n",
       "    <tr>\n",
       "      <th>11</th>\n",
       "      <td>0</td>\n",
       "      <td>874.0</td>\n",
       "      <td>4.06</td>\n",
       "      <td>5.55</td>\n",
       "      <td>0.3</td>\n",
       "      <td>17.6</td>\n",
       "      <td>26.6</td>\n",
       "    </tr>\n",
       "    <tr>\n",
       "      <th>12</th>\n",
       "      <td>0</td>\n",
       "      <td>900.9</td>\n",
       "      <td>0.37</td>\n",
       "      <td>1.88</td>\n",
       "      <td>0.3</td>\n",
       "      <td>17.3</td>\n",
       "      <td>27.3</td>\n",
       "    </tr>\n",
       "    <tr>\n",
       "      <th>13</th>\n",
       "      <td>0</td>\n",
       "      <td>934.8</td>\n",
       "      <td>2.65</td>\n",
       "      <td>4.15</td>\n",
       "      <td>0.3</td>\n",
       "      <td>17.1</td>\n",
       "      <td>26.9</td>\n",
       "    </tr>\n",
       "    <tr>\n",
       "      <th>14</th>\n",
       "      <td>0</td>\n",
       "      <td>828.5</td>\n",
       "      <td>5.05</td>\n",
       "      <td>6.42</td>\n",
       "      <td>0.3</td>\n",
       "      <td>16.9</td>\n",
       "      <td>26.9</td>\n",
       "    </tr>\n",
       "    <tr>\n",
       "      <th>15</th>\n",
       "      <td>0</td>\n",
       "      <td>863.5</td>\n",
       "      <td>0.37</td>\n",
       "      <td>1.69</td>\n",
       "      <td>0.3</td>\n",
       "      <td>16.7</td>\n",
       "      <td>26.6</td>\n",
       "    </tr>\n",
       "  </tbody>\n",
       "</table>\n",
       "</div>"
      ],
      "text/plain": [
       "    M0 [g]  M1 [g]  m0 [g]  m1 [g]  Mc [g]  T0 [degC]  T1 [degC]\n",
       "0        0   902.0    0.00    1.12     0.3       18.0       25.8\n",
       "1        0   903.0    2.34    3.65     0.3       18.0       25.8\n",
       "2        0  1065.0    4.69    6.18     0.3       18.0       25.8\n",
       "3        0  1020.0    7.03    8.82     0.3       18.0       25.8\n",
       "4        0   989.0    0.48    2.22     0.3       18.0       27.8\n",
       "5        0   813.0    3.38    4.86     0.3       18.0       28.1\n",
       "6        0  1240.0    5.74    7.76     0.3       18.0       28.1\n",
       "7        0   960.0    0.99    2.64     0.3       18.0       28.3\n",
       "8        0   941.0    3.39    4.97     0.3       18.0       27.8\n",
       "9        0   876.0    0.09    1.41     0.3       17.6       27.8\n",
       "10       0   909.0    2.14    3.66     0.3       17.6       27.4\n",
       "11       0   874.0    4.06    5.55     0.3       17.6       26.6\n",
       "12       0   900.9    0.37    1.88     0.3       17.3       27.3\n",
       "13       0   934.8    2.65    4.15     0.3       17.1       26.9\n",
       "14       0   828.5    5.05    6.42     0.3       16.9       26.9\n",
       "15       0   863.5    0.37    1.69     0.3       16.7       26.6"
      ]
     },
     "execution_count": 4,
     "metadata": {},
     "output_type": "execute_result"
    }
   ],
   "source": [
    "ethanol = load(\"../data/ethanol.csv\")\n",
    "ethanol"
   ]
  },
  {
   "cell_type": "code",
   "execution_count": 5,
   "metadata": {},
   "outputs": [],
   "source": [
    "masse_eau = unp.uarray(ethanol[\"M1 [g]\"] * 1e-3, delta_M)\n",
    "masse_gaz = unp.uarray(ethanol[\"m1 [g]\"] * 1e-3, delta_m) - unp.uarray(ethanol[\"m0 [g]\"] * 1e-3, delta_m)\n",
    "temperature_diff = unp.uarray(ethanol[\"T1 [degC]\"], delta_T) - unp.uarray(ethanol[\"T0 [degC]\"], delta_T)\n",
    "masse_eau_cond = unp.uarray(ethanol[\"Mc [g]\"] * 1e-3, delta_Mc)"
   ]
  },
  {
   "cell_type": "code",
   "execution_count": 6,
   "metadata": {},
   "outputs": [],
   "source": [
    "H = (C_m_eau * masse_eau * temperature_diff - masse_eau_cond * l_vap_eau) / masse_gaz\n",
    "H *= 1e-6  # MJ"
   ]
  },
  {
   "cell_type": "code",
   "execution_count": 7,
   "metadata": {},
   "outputs": [
    {
     "name": "stdout",
     "output_type": "stream",
     "text": [
      "H = 25.7±0.8 MJ\n",
      "H = 22.0±0.7 MJ\n",
      "H = 22.8±0.6 MJ\n",
      "H = 18.2±0.5 MJ\n",
      "H = 22.9±0.5 MJ\n",
      "H = 22.7±0.6 MJ\n",
      "H = 25.6±0.5 MJ\n",
      "H = 24.6±0.6 MJ\n",
      "H = 24.0±0.6 MJ\n",
      "H = 27.8±0.8 MJ\n",
      "H = 24.0±0.6 MJ\n",
      "H = 21.6±0.6 MJ\n",
      "H = 24.5±0.6 MJ\n",
      "H = 25.1±0.6 MJ\n",
      "H = 24.8±0.7 MJ\n",
      "H = 26.6±0.7 MJ\n"
     ]
    }
   ],
   "source": [
    "for h in H:\n",
    "    print(f\"H = {h:.1uP} MJ\")"
   ]
  },
  {
   "cell_type": "code",
   "execution_count": 8,
   "metadata": {},
   "outputs": [],
   "source": [
    "H_avg = np.mean(H)\n",
    "# Devrait être calculé par uncertainties, maaaaaais bon faudrait\n",
    "# calculer à la main @martin\n",
    "H_std_dev = (1 / (len(H) - 1) * np.sum((H - H_avg) ** 2)) ** 0.5"
   ]
  },
  {
   "cell_type": "code",
   "execution_count": 9,
   "metadata": {},
   "outputs": [
    {
     "name": "stdout",
     "output_type": "stream",
     "text": [
      "H moyen = 23.9±0.2 MJ\n",
      "H std dev = 2.3±0.2 MJ\n"
     ]
    }
   ],
   "source": [
    "print(f\"H moyen = {H_avg:.1uP} MJ\")\n",
    "print(f\"H std dev = {H_std_dev:.1uP} MJ\")"
   ]
  },
  {
   "cell_type": "markdown",
   "metadata": {},
   "source": [
    "## Plot"
   ]
  },
  {
   "cell_type": "code",
   "execution_count": 10,
   "metadata": {},
   "outputs": [
    {
     "data": {
      "image/png": "[encoded data removed]",
      "text/plain": [
       "<Figure size 400x300 with 1 Axes>"
      ]
     },
     "metadata": {},
     "output_type": "display_data"
    }
   ],
   "source": [
    "samples = np.arange(len(H))\n",
    "plt.errorbar(samples, unp.nominal_values(H), yerr=unp.std_devs(H), marker='s', ms=5, ls='none', label=r\"$H$\")\n",
    "plt.fill_between(samples, H_avg.n - H_std_dev.n, H_avg.n + H_std_dev.n, color='tab:grey', alpha=0.2)\n",
    "\n",
    "plt.axhline(H_theo, color='purple', linestyle=\"--\", label=r\"$H_\\textrm{théo}$\")\n",
    "plt.axhline(H_avg.n, color='orange', linestyle=\"--\", label=r\"$<H>$\")\n",
    "\n",
    "plt.xticks(samples, samples + 1)\n",
    "# plt.xticks(samples, samples + 1, rotation=-45)\n",
    "plt.xlabel(\"Sample\")\n",
    "plt.ylabel(r\"$H$ [\\si{\\mega\\joule\\per\\kilo\\gram}]\")\n",
    "plt.legend(reverse=True, ncols=3, loc='upper left', bbox_to_anchor=(0, 1.2))\n",
    "\n",
    "plt.savefig('../figures/ethanol.pdf', bbox_inches=\"tight\")"
   ]
  },
  {
   "cell_type": "code",
   "execution_count": null,
   "metadata": {},
   "outputs": [],
   "source": []
  }
 ],
 "metadata": {
  "kernelspec": {
   "display_name": ".venv",
   "language": "python",
   "name": "python3"
  },
  "language_info": {
   "codemirror_mode": {
    "name": "ipython",
    "version": 3
   },
   "file_extension": ".py",
   "mimetype": "text/x-python",
   "name": "python",
   "nbconvert_exporter": "python",
   "pygments_lexer": "ipython3",
   "version": "3.11.6"
  }
 },
 "nbformat": 4,
 "nbformat_minor": 2
}
