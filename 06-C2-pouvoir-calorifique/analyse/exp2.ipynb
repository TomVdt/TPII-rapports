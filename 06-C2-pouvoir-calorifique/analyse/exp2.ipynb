{
 "cells": [
  {
   "cell_type": "markdown",
   "metadata": {},
   "source": [
    "# Pouvoir calorifique"
   ]
  },
  {
   "cell_type": "code",
   "execution_count": 1,
   "metadata": {},
   "outputs": [],
   "source": [
    "import numpy as np\n",
    "import pandas as pd\n",
    "import matplotlib as mpl\n",
    "import matplotlib.pyplot as plt\n",
    "from uncertainties import unumpy as unp\n",
    "from uncertainties import ufloat, umath\n",
    "from options import *\n",
    "from constants import *\n",
    "\n",
    "mpl.rcParams.update(rcParams)"
   ]
  },
  {
   "cell_type": "code",
   "execution_count": 2,
   "metadata": {},
   "outputs": [],
   "source": [
    "def load(filename: str):\n",
    "    return pd.read_csv(filename)"
   ]
  },
  {
   "cell_type": "markdown",
   "metadata": {},
   "source": [
    "## Theorique"
   ]
  },
  {
   "cell_type": "code",
   "execution_count": 3,
   "metadata": {},
   "outputs": [],
   "source": [
    "H_theo = 41.69 # MJ"
   ]
  },
  {
   "cell_type": "markdown",
   "metadata": {},
   "source": [
    "## Mesuré"
   ]
  },
  {
   "cell_type": "code",
   "execution_count": 4,
   "metadata": {},
   "outputs": [
    {
     "data": {
      "text/html": [
       "<div>\n",
       "<style scoped>\n",
       "    .dataframe tbody tr th:only-of-type {\n",
       "        vertical-align: middle;\n",
       "    }\n",
       "\n",
       "    .dataframe tbody tr th {\n",
       "        vertical-align: top;\n",
       "    }\n",
       "\n",
       "    .dataframe thead th {\n",
       "        text-align: right;\n",
       "    }\n",
       "</style>\n",
       "<table border=\"1\" class=\"dataframe\">\n",
       "  <thead>\n",
       "    <tr style=\"text-align: right;\">\n",
       "      <th></th>\n",
       "      <th>M0 [g]</th>\n",
       "      <th>M1 [g]</th>\n",
       "      <th>m0 [g]</th>\n",
       "      <th>m1 [g]</th>\n",
       "      <th>Mc [g]</th>\n",
       "      <th>T0 [degC]</th>\n",
       "      <th>T1 [degC]</th>\n",
       "    </tr>\n",
       "  </thead>\n",
       "  <tbody>\n",
       "    <tr>\n",
       "      <th>0</th>\n",
       "      <td>0</td>\n",
       "      <td>950.0</td>\n",
       "      <td>5.25</td>\n",
       "      <td>6.60</td>\n",
       "      <td>3.133333</td>\n",
       "      <td>14.6</td>\n",
       "      <td>30.6</td>\n",
       "    </tr>\n",
       "    <tr>\n",
       "      <th>1</th>\n",
       "      <td>0</td>\n",
       "      <td>908.3</td>\n",
       "      <td>0.08</td>\n",
       "      <td>1.35</td>\n",
       "      <td>3.133333</td>\n",
       "      <td>14.3</td>\n",
       "      <td>30.2</td>\n",
       "    </tr>\n",
       "    <tr>\n",
       "      <th>2</th>\n",
       "      <td>0</td>\n",
       "      <td>799.7</td>\n",
       "      <td>2.03</td>\n",
       "      <td>3.18</td>\n",
       "      <td>3.133333</td>\n",
       "      <td>14.0</td>\n",
       "      <td>29.8</td>\n",
       "    </tr>\n",
       "    <tr>\n",
       "      <th>3</th>\n",
       "      <td>0</td>\n",
       "      <td>837.8</td>\n",
       "      <td>3.84</td>\n",
       "      <td>4.98</td>\n",
       "      <td>3.133333</td>\n",
       "      <td>13.8</td>\n",
       "      <td>29.3</td>\n",
       "    </tr>\n",
       "    <tr>\n",
       "      <th>4</th>\n",
       "      <td>0</td>\n",
       "      <td>887.9</td>\n",
       "      <td>5.59</td>\n",
       "      <td>6.78</td>\n",
       "      <td>3.133333</td>\n",
       "      <td>13.6</td>\n",
       "      <td>28.7</td>\n",
       "    </tr>\n",
       "    <tr>\n",
       "      <th>5</th>\n",
       "      <td>0</td>\n",
       "      <td>879.2</td>\n",
       "      <td>0.14</td>\n",
       "      <td>1.31</td>\n",
       "      <td>3.133333</td>\n",
       "      <td>13.4</td>\n",
       "      <td>28.2</td>\n",
       "    </tr>\n",
       "    <tr>\n",
       "      <th>6</th>\n",
       "      <td>0</td>\n",
       "      <td>1070.6</td>\n",
       "      <td>2.06</td>\n",
       "      <td>3.45</td>\n",
       "      <td>3.133333</td>\n",
       "      <td>13.1</td>\n",
       "      <td>27.8</td>\n",
       "    </tr>\n",
       "    <tr>\n",
       "      <th>7</th>\n",
       "      <td>0</td>\n",
       "      <td>910.0</td>\n",
       "      <td>4.06</td>\n",
       "      <td>5.23</td>\n",
       "      <td>3.133333</td>\n",
       "      <td>12.9</td>\n",
       "      <td>27.4</td>\n",
       "    </tr>\n",
       "    <tr>\n",
       "      <th>8</th>\n",
       "      <td>0</td>\n",
       "      <td>979.9</td>\n",
       "      <td>6.00</td>\n",
       "      <td>7.25</td>\n",
       "      <td>3.133333</td>\n",
       "      <td>12.7</td>\n",
       "      <td>26.8</td>\n",
       "    </tr>\n",
       "    <tr>\n",
       "      <th>9</th>\n",
       "      <td>0</td>\n",
       "      <td>868.9</td>\n",
       "      <td>0.13</td>\n",
       "      <td>1.21</td>\n",
       "      <td>3.133333</td>\n",
       "      <td>12.6</td>\n",
       "      <td>26.7</td>\n",
       "    </tr>\n",
       "    <tr>\n",
       "      <th>10</th>\n",
       "      <td>0</td>\n",
       "      <td>841.3</td>\n",
       "      <td>1.91</td>\n",
       "      <td>2.95</td>\n",
       "      <td>3.133333</td>\n",
       "      <td>12.5</td>\n",
       "      <td>26.4</td>\n",
       "    </tr>\n",
       "    <tr>\n",
       "      <th>11</th>\n",
       "      <td>0</td>\n",
       "      <td>908.8</td>\n",
       "      <td>3.56</td>\n",
       "      <td>4.69</td>\n",
       "      <td>3.133333</td>\n",
       "      <td>12.4</td>\n",
       "      <td>26.2</td>\n",
       "    </tr>\n",
       "  </tbody>\n",
       "</table>\n",
       "</div>"
      ],
      "text/plain": [
       "    M0 [g]  M1 [g]  m0 [g]  m1 [g]    Mc [g]  T0 [degC]  T1 [degC]\n",
       "0        0   950.0    5.25    6.60  3.133333       14.6       30.6\n",
       "1        0   908.3    0.08    1.35  3.133333       14.3       30.2\n",
       "2        0   799.7    2.03    3.18  3.133333       14.0       29.8\n",
       "3        0   837.8    3.84    4.98  3.133333       13.8       29.3\n",
       "4        0   887.9    5.59    6.78  3.133333       13.6       28.7\n",
       "5        0   879.2    0.14    1.31  3.133333       13.4       28.2\n",
       "6        0  1070.6    2.06    3.45  3.133333       13.1       27.8\n",
       "7        0   910.0    4.06    5.23  3.133333       12.9       27.4\n",
       "8        0   979.9    6.00    7.25  3.133333       12.7       26.8\n",
       "9        0   868.9    0.13    1.21  3.133333       12.6       26.7\n",
       "10       0   841.3    1.91    2.95  3.133333       12.5       26.4\n",
       "11       0   908.8    3.56    4.69  3.133333       12.4       26.2"
      ]
     },
     "execution_count": 4,
     "metadata": {},
     "output_type": "execute_result"
    }
   ],
   "source": [
    "gaz_camping = load(\"../data/gaz_camping.csv\")\n",
    "gaz_camping"
   ]
  },
  {
   "cell_type": "code",
   "execution_count": 5,
   "metadata": {},
   "outputs": [],
   "source": [
    "masse_eau = unp.uarray(gaz_camping[\"M1 [g]\"] * 1e-3, delta_M)\n",
    "masse_gaz = unp.uarray(gaz_camping[\"m1 [g]\"] * 1e-3, delta_m) - unp.uarray(gaz_camping[\"m0 [g]\"] * 1e-3, delta_m)\n",
    "temperature_diff = unp.uarray(gaz_camping[\"T1 [degC]\"], delta_T) - unp.uarray(gaz_camping[\"T0 [degC]\"], delta_T)\n",
    "masse_eau_cond = unp.uarray(gaz_camping[\"Mc [g]\"] * 1e-3, delta_Mc)"
   ]
  },
  {
   "cell_type": "code",
   "execution_count": 6,
   "metadata": {},
   "outputs": [],
   "source": [
    "H = (C_m_eau * masse_eau * temperature_diff - masse_eau_cond * l_vap_eau) / masse_gaz\n",
    "H *= 1e-6  # MJ"
   ]
  },
  {
   "cell_type": "code",
   "execution_count": 7,
   "metadata": {},
   "outputs": [
    {
     "name": "stdout",
     "output_type": "stream",
     "text": [
      "H = 42±1 MJ\n",
      "H = 42±1 MJ\n",
      "H = 40±1 MJ\n",
      "H = 41±1 MJ\n",
      "H = 41±1 MJ\n",
      "H = 40±1 MJ\n",
      "H = 42±1 MJ\n",
      "H = 41±1 MJ\n",
      "H = 41±1 MJ\n",
      "H = 41±1 MJ\n",
      "H = 40±1 MJ\n",
      "H = 40±1 MJ\n"
     ]
    }
   ],
   "source": [
    "for h in H:\n",
    "    print(f\"H = {h:.1uP} MJ\")"
   ]
  },
  {
   "cell_type": "code",
   "execution_count": 8,
   "metadata": {},
   "outputs": [],
   "source": [
    "H_avg = np.mean(H)\n",
    "# Devrait être calculé par uncertainties, maaaaaais bon faudrait\n",
    "# calculer à la main @martin\n",
    "H_std_dev = (1 / (len(H) - 1) * np.sum((H - H_avg) ** 2)) ** 0.5"
   ]
  },
  {
   "cell_type": "code",
   "execution_count": 9,
   "metadata": {},
   "outputs": [
    {
     "name": "stdout",
     "output_type": "stream",
     "text": [
      "H moyen = 41.0±0.3 MJ\n",
      "H std dev = 0.8±0.3 MJ\n"
     ]
    }
   ],
   "source": [
    "print(f\"H moyen = {H_avg:.1uP} MJ\")\n",
    "print(f\"H std dev = {H_std_dev:.1uP} MJ\")"
   ]
  },
  {
   "cell_type": "markdown",
   "metadata": {},
   "source": [
    "## Plot"
   ]
  },
  {
   "cell_type": "code",
   "execution_count": 10,
   "metadata": {},
   "outputs": [
    {
     "data": {
      "image/png": "[encoded data removed]",
      "text/plain": [
       "<Figure size 400x300 with 1 Axes>"
      ]
     },
     "metadata": {},
     "output_type": "display_data"
    }
   ],
   "source": [
    "samples = np.arange(len(H))\n",
    "plt.errorbar(samples, unp.nominal_values(H), yerr=unp.std_devs(H), marker='s', ms=5, ls='none', label=r\"$H$\")\n",
    "plt.fill_between(samples, H_avg.n - H_std_dev.n, H_avg.n + H_std_dev.n, color='tab:grey', alpha=0.2)\n",
    "\n",
    "plt.axhline(H_theo, color='purple', linestyle=\"--\", label=r\"$H_\\textrm{théo}$\")\n",
    "plt.axhline(H_avg.n, color='orange', linestyle=\"--\", label=r\"$<H>$\")\n",
    "\n",
    "plt.xticks(samples, samples + 1)\n",
    "# plt.xticks(samples, samples + 1, rotation=-45)\n",
    "plt.xlabel(\"Sample\")\n",
    "plt.ylabel(r\"$H$ [\\si{\\mega\\joule\\per\\kilo\\gram}]\")\n",
    "plt.legend(reverse=True, ncols=3, loc='upper left', bbox_to_anchor=(0, 1.2))\n",
    "\n",
    "plt.savefig('../figures/gaz_camping.pdf', bbox_inches=\"tight\")"
   ]
  },
  {
   "cell_type": "code",
   "execution_count": null,
   "metadata": {},
   "outputs": [],
   "source": []
  }
 ],
 "metadata": {
  "kernelspec": {
   "display_name": ".venv",
   "language": "python",
   "name": "python3"
  },
  "language_info": {
   "codemirror_mode": {
    "name": "ipython",
    "version": 3
   },
   "file_extension": ".py",
   "mimetype": "text/x-python",
   "name": "python",
   "nbconvert_exporter": "python",
   "pygments_lexer": "ipython3",
   "version": "3.11.6"
  }
 },
 "nbformat": 4,
 "nbformat_minor": 2
}
